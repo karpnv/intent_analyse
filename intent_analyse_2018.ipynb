{
  "nbformat": 4,
  "nbformat_minor": 0,
  "metadata": {
    "colab": {
      "name": "xlsx_to_gml.ipynb",
      "version": "0.3.2",
      "provenance": [],
      "collapsed_sections": []
    },
    "kernelspec": {
      "name": "python3",
      "display_name": "Python 3"
    }
  },
  "cells": [
    {
      "metadata": {
        "id": "RMiCHek23Jir",
        "colab_type": "code",
        "colab": {
          "base_uri": "https://localhost:8080/",
          "height": 170
        },
        "outputId": "590608d0-94e8-4881-d170-b5982afa1976"
      },
      "cell_type": "code",
      "source": [
        "   ! ls drive/Проверено/Проверено_Плотниковой/Набокова_кодТимофеева_проверено\\ Плотниковой"
      ],
      "execution_count": 25,
      "outputs": [
        {
          "output_type": "stream",
          "text": [
            "25106701_435248.xlsx  25106701_436015.xlsx    25106701_436843.xlsx\r\n",
            "25106701_435295.xlsx  25106701_436141.xlsx    25106701_437177.xlsx\r\n",
            "25106701_435302.xlsx  25106701_436161.xlsx    25106701_437195.xlsx\r\n",
            "25106701_435600.xlsx  ~$25106701_436183.xlsx  25106701_437261.xlsx\r\n",
            "25106701_435736.xlsx  25106701_436183.xlsx    25106701_437284.xlsx\r\n",
            "25106701_435748.xlsx  25106701_436335.xlsx    25106701_437375.xlsx\r\n",
            "25106701_435879.xlsx  25106701_436405.xlsx    25106701_437378.xlsx\r\n",
            "25106701_435913.xlsx  25106701_436539.xlsx    25106701_437410.xlsx\r\n",
            "25106701_435965.xlsx  25106701_436624.xlsx    25106701_437551.xlsx\r\n"
          ],
          "name": "stdout"
        }
      ]
    },
    {
      "metadata": {
        "id": "M43xC9wB3LB2",
        "colab_type": "code",
        "colab": {
          "base_uri": "https://localhost:8080/",
          "height": 1098
        },
        "outputId": "8fd2809b-f06d-4a19-b97b-678594c8fdeb"
      },
      "cell_type": "code",
      "source": [
        "# Install requirements \n",
        "! pip install python-igraph\n",
        "! pip install xlrd\n",
        "\n",
        "\n",
        "!apt-get install -y -qq software-properties-common python-software-properties module-init-tools\n",
        "!add-apt-repository -y ppa:alessandro-strada/ppa 2>&1 > /dev/null\n",
        "!apt-get update -qq 2>&1 > /dev/null\n",
        "!apt-get -y install -qq google-drive-ocamlfuse fuse\n",
        "\n",
        "# Connect\n",
        "from google.colab import auth\n",
        "auth.authenticate_user()\n",
        "from oauth2client.client import GoogleCredentials\n",
        "creds = GoogleCredentials.get_application_default()\n",
        "import getpass\n",
        "!google-drive-ocamlfuse -headless -id={creds.client_id} -secret={creds.client_secret} < /dev/null 2>&1 | grep URL\n",
        "vcode = getpass.getpass()\n",
        "!echo {vcode} | google-drive-ocamlfuse -headless -id={creds.client_id} -secret={creds.client_secret}\n",
        "!mkdir -p drive\n",
        "!google-drive-ocamlfuse drive"
      ],
      "execution_count": 24,
      "outputs": [
        {
          "output_type": "stream",
          "text": [
            "Requirement already satisfied: python-igraph in /usr/local/lib/python3.6/dist-packages (0.7.1.post6)\n",
            "Requirement already satisfied: xlrd in /usr/local/lib/python3.6/dist-packages (1.1.0)\n",
            "^C\n",
            "gpg: keybox '/tmp/tmp97jpqm9c/pubring.gpg' created\n",
            "gpg: /tmp/tmp97jpqm9c/trustdb.gpg: trustdb created\n",
            "gpg: key AD5F235DF639B041: public key \"Launchpad PPA for Alessandro Strada\" imported\n",
            "gpg: Total number processed: 1\n",
            "gpg:               imported: 1\n",
            "Warning: apt-key output should not be parsed (stdout is not a terminal)\n"
          ],
          "name": "stdout"
        },
        {
          "output_type": "error",
          "ename": "KeyboardInterrupt",
          "evalue": "ignored",
          "traceback": [
            "\u001b[0;31m---------------------------------------------------------------------------\u001b[0m",
            "\u001b[0;31mKeyboardInterrupt\u001b[0m                         Traceback (most recent call last)",
            "\u001b[0;32m/usr/local/lib/python3.6/dist-packages/ipykernel/kernelbase.py\u001b[0m in \u001b[0;36m_input_request\u001b[0;34m(self, prompt, ident, parent, password)\u001b[0m\n\u001b[1;32m    729\u001b[0m             \u001b[0;32mtry\u001b[0m\u001b[0;34m:\u001b[0m\u001b[0;34m\u001b[0m\u001b[0m\n\u001b[0;32m--> 730\u001b[0;31m                 \u001b[0mident\u001b[0m\u001b[0;34m,\u001b[0m \u001b[0mreply\u001b[0m \u001b[0;34m=\u001b[0m \u001b[0mself\u001b[0m\u001b[0;34m.\u001b[0m\u001b[0msession\u001b[0m\u001b[0;34m.\u001b[0m\u001b[0mrecv\u001b[0m\u001b[0;34m(\u001b[0m\u001b[0mself\u001b[0m\u001b[0;34m.\u001b[0m\u001b[0mstdin_socket\u001b[0m\u001b[0;34m,\u001b[0m \u001b[0;36m0\u001b[0m\u001b[0;34m)\u001b[0m\u001b[0;34m\u001b[0m\u001b[0m\n\u001b[0m\u001b[1;32m    731\u001b[0m             \u001b[0;32mexcept\u001b[0m \u001b[0mException\u001b[0m\u001b[0;34m:\u001b[0m\u001b[0;34m\u001b[0m\u001b[0m\n",
            "\u001b[0;32m/usr/local/lib/python3.6/dist-packages/jupyter_client/session.py\u001b[0m in \u001b[0;36mrecv\u001b[0;34m(self, socket, mode, content, copy)\u001b[0m\n\u001b[1;32m    802\u001b[0m         \u001b[0;32mtry\u001b[0m\u001b[0;34m:\u001b[0m\u001b[0;34m\u001b[0m\u001b[0m\n\u001b[0;32m--> 803\u001b[0;31m             \u001b[0mmsg_list\u001b[0m \u001b[0;34m=\u001b[0m \u001b[0msocket\u001b[0m\u001b[0;34m.\u001b[0m\u001b[0mrecv_multipart\u001b[0m\u001b[0;34m(\u001b[0m\u001b[0mmode\u001b[0m\u001b[0;34m,\u001b[0m \u001b[0mcopy\u001b[0m\u001b[0;34m=\u001b[0m\u001b[0mcopy\u001b[0m\u001b[0;34m)\u001b[0m\u001b[0;34m\u001b[0m\u001b[0m\n\u001b[0m\u001b[1;32m    804\u001b[0m         \u001b[0;32mexcept\u001b[0m \u001b[0mzmq\u001b[0m\u001b[0;34m.\u001b[0m\u001b[0mZMQError\u001b[0m \u001b[0;32mas\u001b[0m \u001b[0me\u001b[0m\u001b[0;34m:\u001b[0m\u001b[0;34m\u001b[0m\u001b[0m\n",
            "\u001b[0;32m/usr/local/lib/python3.6/dist-packages/zmq/sugar/socket.py\u001b[0m in \u001b[0;36mrecv_multipart\u001b[0;34m(self, flags, copy, track)\u001b[0m\n\u001b[1;32m    394\u001b[0m         \"\"\"\n\u001b[0;32m--> 395\u001b[0;31m         \u001b[0mparts\u001b[0m \u001b[0;34m=\u001b[0m \u001b[0;34m[\u001b[0m\u001b[0mself\u001b[0m\u001b[0;34m.\u001b[0m\u001b[0mrecv\u001b[0m\u001b[0;34m(\u001b[0m\u001b[0mflags\u001b[0m\u001b[0;34m,\u001b[0m \u001b[0mcopy\u001b[0m\u001b[0;34m=\u001b[0m\u001b[0mcopy\u001b[0m\u001b[0;34m,\u001b[0m \u001b[0mtrack\u001b[0m\u001b[0;34m=\u001b[0m\u001b[0mtrack\u001b[0m\u001b[0;34m)\u001b[0m\u001b[0;34m]\u001b[0m\u001b[0;34m\u001b[0m\u001b[0m\n\u001b[0m\u001b[1;32m    396\u001b[0m         \u001b[0;31m# have first part already, only loop while more to receive\u001b[0m\u001b[0;34m\u001b[0m\u001b[0;34m\u001b[0m\u001b[0m\n",
            "\u001b[0;32mzmq/backend/cython/socket.pyx\u001b[0m in \u001b[0;36mzmq.backend.cython.socket.Socket.recv\u001b[0;34m()\u001b[0m\n",
            "\u001b[0;32mzmq/backend/cython/socket.pyx\u001b[0m in \u001b[0;36mzmq.backend.cython.socket.Socket.recv\u001b[0;34m()\u001b[0m\n",
            "\u001b[0;32mzmq/backend/cython/socket.pyx\u001b[0m in \u001b[0;36mzmq.backend.cython.socket._recv_copy\u001b[0;34m()\u001b[0m\n",
            "\u001b[0;32m/usr/local/lib/python3.6/dist-packages/zmq/backend/cython/checkrc.pxd\u001b[0m in \u001b[0;36mzmq.backend.cython.checkrc._check_rc\u001b[0;34m()\u001b[0m\n",
            "\u001b[0;31mKeyboardInterrupt\u001b[0m: ",
            "\nDuring handling of the above exception, another exception occurred:\n",
            "\u001b[0;31mKeyboardInterrupt\u001b[0m                         Traceback (most recent call last)",
            "\u001b[0;32m<ipython-input-24-835b2d1b0f0d>\u001b[0m in \u001b[0;36m<module>\u001b[0;34m()\u001b[0m\n\u001b[1;32m     15\u001b[0m \u001b[0;32mimport\u001b[0m \u001b[0mgetpass\u001b[0m\u001b[0;34m\u001b[0m\u001b[0m\n\u001b[1;32m     16\u001b[0m \u001b[0mget_ipython\u001b[0m\u001b[0;34m(\u001b[0m\u001b[0;34m)\u001b[0m\u001b[0;34m.\u001b[0m\u001b[0msystem\u001b[0m\u001b[0;34m(\u001b[0m\u001b[0;34m'google-drive-ocamlfuse -headless -id={creds.client_id} -secret={creds.client_secret} < /dev/null 2>&1 | grep URL'\u001b[0m\u001b[0;34m)\u001b[0m\u001b[0;34m\u001b[0m\u001b[0m\n\u001b[0;32m---> 17\u001b[0;31m \u001b[0mvcode\u001b[0m \u001b[0;34m=\u001b[0m \u001b[0mgetpass\u001b[0m\u001b[0;34m.\u001b[0m\u001b[0mgetpass\u001b[0m\u001b[0;34m(\u001b[0m\u001b[0;34m)\u001b[0m\u001b[0;34m\u001b[0m\u001b[0m\n\u001b[0m\u001b[1;32m     18\u001b[0m \u001b[0mget_ipython\u001b[0m\u001b[0;34m(\u001b[0m\u001b[0;34m)\u001b[0m\u001b[0;34m.\u001b[0m\u001b[0msystem\u001b[0m\u001b[0;34m(\u001b[0m\u001b[0;34m'echo {vcode} | google-drive-ocamlfuse -headless -id={creds.client_id} -secret={creds.client_secret}'\u001b[0m\u001b[0;34m)\u001b[0m\u001b[0;34m\u001b[0m\u001b[0m\n\u001b[1;32m     19\u001b[0m \u001b[0mget_ipython\u001b[0m\u001b[0;34m(\u001b[0m\u001b[0;34m)\u001b[0m\u001b[0;34m.\u001b[0m\u001b[0msystem\u001b[0m\u001b[0;34m(\u001b[0m\u001b[0;34m'mkdir -p drive'\u001b[0m\u001b[0;34m)\u001b[0m\u001b[0;34m\u001b[0m\u001b[0m\n",
            "\u001b[0;32m/usr/local/lib/python3.6/dist-packages/ipykernel/kernelbase.py\u001b[0m in \u001b[0;36mgetpass\u001b[0;34m(self, prompt, stream)\u001b[0m\n\u001b[1;32m    686\u001b[0m             \u001b[0mself\u001b[0m\u001b[0;34m.\u001b[0m\u001b[0m_parent_ident\u001b[0m\u001b[0;34m,\u001b[0m\u001b[0;34m\u001b[0m\u001b[0m\n\u001b[1;32m    687\u001b[0m             \u001b[0mself\u001b[0m\u001b[0;34m.\u001b[0m\u001b[0m_parent_header\u001b[0m\u001b[0;34m,\u001b[0m\u001b[0;34m\u001b[0m\u001b[0m\n\u001b[0;32m--> 688\u001b[0;31m             \u001b[0mpassword\u001b[0m\u001b[0;34m=\u001b[0m\u001b[0;32mTrue\u001b[0m\u001b[0;34m,\u001b[0m\u001b[0;34m\u001b[0m\u001b[0m\n\u001b[0m\u001b[1;32m    689\u001b[0m         )\n\u001b[1;32m    690\u001b[0m \u001b[0;34m\u001b[0m\u001b[0m\n",
            "\u001b[0;32m/usr/local/lib/python3.6/dist-packages/ipykernel/kernelbase.py\u001b[0m in \u001b[0;36m_input_request\u001b[0;34m(self, prompt, ident, parent, password)\u001b[0m\n\u001b[1;32m    733\u001b[0m             \u001b[0;32mexcept\u001b[0m \u001b[0mKeyboardInterrupt\u001b[0m\u001b[0;34m:\u001b[0m\u001b[0;34m\u001b[0m\u001b[0m\n\u001b[1;32m    734\u001b[0m                 \u001b[0;31m# re-raise KeyboardInterrupt, to truncate traceback\u001b[0m\u001b[0;34m\u001b[0m\u001b[0;34m\u001b[0m\u001b[0m\n\u001b[0;32m--> 735\u001b[0;31m                 \u001b[0;32mraise\u001b[0m \u001b[0mKeyboardInterrupt\u001b[0m\u001b[0;34m\u001b[0m\u001b[0m\n\u001b[0m\u001b[1;32m    736\u001b[0m             \u001b[0;32melse\u001b[0m\u001b[0;34m:\u001b[0m\u001b[0;34m\u001b[0m\u001b[0m\n\u001b[1;32m    737\u001b[0m                 \u001b[0;32mbreak\u001b[0m\u001b[0;34m\u001b[0m\u001b[0m\n",
            "\u001b[0;31mKeyboardInterrupt\u001b[0m: "
          ]
        }
      ]
    },
    {
      "metadata": {
        "id": "rulHcQMZ3MdH",
        "colab_type": "code",
        "colab": {}
      },
      "cell_type": "code",
      "source": [
        "import pandas as pd\n",
        "import math\n",
        "import numpy as np\n",
        "import igraph\n",
        "import os\n",
        "\n",
        "def xlsx_to_gml(filename):\n",
        "    #read xlsx file into dataframe\n",
        "    post_df = pd.read_excel(filename)\n",
        "    #list to add comment ids that were deleted for some reason\n",
        "    print(filename)\n",
        "    #creating a root node\n",
        "    root = {'id' : filename[len(filename)-11:len(filename)-5]}\n",
        "    root_df = pd.DataFrame(root,index = ['0'])\n",
        "    \n",
        "    \n",
        "    post_df = pd.concat([root_df,post_df],ignore_index=True)\n",
        "    \n",
        "    if 'attachments' not in post_df.columns:\n",
        "      post_df['attachments'] = ''\n",
        "    if 'reply_to_comment' not in post_df.columns:\n",
        "      post_df['reply_to_comment'] = 0\n",
        "    if 'reply_to_user' not in post_df.columns:\n",
        "      post_df['reply_to_user'] = 0\n",
        "    \n",
        "    met_id = list()\n",
        "\n",
        "    for comment in post_df.iterrows():\n",
        "        if ( (not math.isnan(comment[1]['reply_to_comment'])) and \n",
        "            (comment[1]['reply_to_comment'] not in met_id) and\n",
        "            (comment[1]['reply_to_comment'] not in post_df['id'].tolist()) ):\n",
        "                met_id.append(comment[1]['reply_to_comment'])\n",
        "                \n",
        "    \n",
        "    met_id_df = pd.DataFrame({'id' : met_id})\n",
        "    #adding empty rows with id field so that every comment id mentioned in xlsx gets its node.\n",
        "    post_df = pd.concat([post_df,met_id_df],ignore_index=True)\n",
        "\n",
        "    \n",
        "\n",
        "    post_Graph = igraph.Graph(directed=True)\n",
        "    post_Graph.add_vertices(len(post_df)) #all comments get a node + root node for the post itself\n",
        "\n",
        "    post_Graph.vs['attachments'] = post_df['attachments'].fillna('').apply(str).tolist()\n",
        "    post_Graph.vs['date'] = post_df['date'].fillna(0).apply(int).apply(lambda x: x if x > 0 else '').apply(str).tolist()\n",
        "    post_Graph.vs['from_id'] = post_df['from_id'].fillna(0).apply(int).apply(lambda x: x if x > 0 else '').apply(str).tolist()\n",
        "    post_Graph.vs['comment_id'] = post_df['id'].fillna(0).apply(int).apply(lambda x: x if x > 0 else '').apply(str).tolist()\n",
        "    post_Graph.vs['reply_to_comment'] = post_df['reply_to_comment'].fillna(0).apply(int).apply(lambda x: x if x > 0 else '').apply(str).tolist()\n",
        "    post_Graph.vs['reply_to_user'] = post_df['reply_to_user'].fillna(0).apply(int).apply(lambda x: x if x > 0 else '').apply(str).tolist()\n",
        "    post_Graph.vs['text'] = post_df['text'].fillna('').apply(str).tolist()\n",
        "    post_Graph.vs['intent'] = post_df['Intent'].fillna('').apply(str).tolist()\n",
        "    post_Graph.vs['content'] = post_df['Content'].replace(' -',float('NaN')).fillna('').apply(str).tolist()\n",
        "    post_Graph.vs['intervention'] = post_df['Intervention'].fillna('').apply(str).tolist()\n",
        "    \n",
        "    for comment in post_df.iterrows():\n",
        "        if ( (math.isnan(comment[1]['reply_to_comment']))):\n",
        "            post_Graph.add_edge(0,comment[0])\n",
        "        else:\n",
        "            for replied_comment in post_df.iterrows():\n",
        "                if (replied_comment[1]['id'] == comment[1]['reply_to_comment']):\n",
        "                    post_Graph.add_edge(replied_comment[0], comment[0])\n",
        "    \n",
        "    \n",
        "    post_Graph.write_gml( (filename[:6] + 'gml_from_excel' + filename[15:len(filename)-5] + '.gml').replace(' ',''))\n",
        "    #post_Graph.write_gml('drive/gml_from_excel/' + '25106701_437551' +'.gml')\n",
        "    print('gml is done')\n",
        "    return post_Graph"
      ],
      "execution_count": 0,
      "outputs": []
    },
    {
      "metadata": {
        "id": "jPpnsb9T-skG",
        "colab_type": "code",
        "colab": {}
      },
      "cell_type": "code",
      "source": [
        "def intervention_subgraph_search(post_Graph):\n",
        "  print(post_Graph)\n",
        "  intervention_subgraphs = list()\n",
        "  #print(post_Graph.subgraph( (3,4,7,8) ))\n",
        "  for v in post_Graph.vs.select(intervention_ne=''):\n",
        "    print(v.index)\n",
        "    subgraph_vertices = list()\n",
        "    subgraph_vertices.append(v.index)\n",
        "    neighbors = (v.successors())\n",
        "    print(neighbors)\n",
        "    print('Constructing subgraph...')\n",
        "    while len(neighbors) > 0:\n",
        "      for neighbor in neighbors:\n",
        "        print(neighbor)\n",
        "        neighbors.extend(neighbor.successors())\n",
        "        subgraph_vertices.append(neighbor.index)\n",
        "        neighbors.remove(neighbor)\n",
        "    print(subgraph_vertices)\n",
        "    intervention_subgraphs.append(post_Graph.subgraph(subgraph_vertices))\n",
        "  print(intervention_subgraphs)"
      ],
      "execution_count": 0,
      "outputs": []
    },
    {
      "metadata": {
        "id": "_yYDgQfMjx7W",
        "colab_type": "code",
        "colab": {
          "base_uri": "https://localhost:8080/",
          "height": 853
        },
        "outputId": "c607acfc-6a5e-4ab2-f1ed-e5de53a44386"
      },
      "cell_type": "code",
      "source": [
        "post_Graph = xlsx_to_gml('drive/Проверено/Проверено_Плотниковой/Набокова_кодКудрявцевой_провереноПлотниковой/25106701_437584.xlsx')\n",
        "intervention_subgraphs = intervention_subgraph_search(post_Graph)\n"
      ],
      "execution_count": 26,
      "outputs": [
        {
          "output_type": "stream",
          "text": [
            "drive/Проверено/Проверено_Плотниковой/Набокова_кодКудрявцевой_провереноПлотниковой/25106701_437584.xlsx\n",
            "gml is done\n",
            "IGRAPH D--- 42 42 --\n",
            "+ attr: attachments (v), comment_id (v), content (v), date (v), from_id (v),\n",
            "  intent (v), intervention (v), reply_to_comment (v), reply_to_user (v), text\n",
            "  (v)\n",
            "+ edges:\n",
            "0->0 0->1 0->2 1->3 3->4 3->5 0->6 4->7 7->8 5->9 9->10 10->11 0->12 12->13\n",
            "13->14 14->15 15->16 3->17 16->18 0->19 0->20 19->21 0->22 0->23 0->24 12->25\n",
            "14->26 0->27 0->28 0->29 0->30 30->31 31->32 32->33 33->34 33->35 0->36 36->37\n",
            "37->38 38->39 39->40 40->41\n",
            "29\n",
            "[]\n",
            "Constructing subgraph...\n",
            "[29]\n",
            "31\n",
            "[igraph.Vertex(<igraph.Graph object at 0x7f83d99db138>, 32, {'attachments': '', 'date': '1503273002', 'from_id': '212488009', 'comment_id': '437790', 'reply_to_comment': '437705', 'reply_to_user': '437072715', 'text': '[id437072715|Finest], В соответствии с приказом императора Николая II о создании Кавказской туземной конной дивизии от 23 августа 1914 года дивизию составляли управление и три бригады по два кавказских туземных конных полка (каждый в 4 эскадрона). В состав дивизии входили следующие формирования:\\n\\n 1-я бригада состояла из Кабардинского конного полка (состоявшего из кабардинцев и балкарцев) и 2-го Дагестанского конного полка (состоявшего из дагестанцев).\\n 2-я бригада состояла из Татарского конного полка (состоявшего из азербайджанцев) и Чеченского конного полка (состоявшего из чеченцев).\\n 3-я бригада состояла из Черкесского конного полка (состоявшего из черкесов, абазин, абхазов и карачаевцев) и Ингушского конного полка (состоявшего из ингушей).\\n\\nСогласно утверждённым штатам, каждый конный полк состоял из 22 офицеров, 3 военных чиновников, 1 полкового муллы, 575 строевых нижних чинов (всадников) и 68 нестроевых нижних чинов.\\n\\nДивизии также были приданы Осетинская пешая бригада и 8-й Донской казачий артиллерийский дивизион.\\n\\nКо времени создания дивизии во время Первой мировой войны в составе русской армии находились также Кавказская кавалерийская дивизия, пять кавказских казачьих, пять кавказских стрелковых и Кавказская гренадерская дивизии. В связи с этим новая дивизия получила название Кавказской туземной конной.\\nВеликий князь Михаил Александрович в форме дивизии с женой Натальей\\n\\nКомандиром кавказской туземной конной дивизии высочайшим приказом от 23 августа был назначен младший брат царя, Свиты Его Величества генерал-майор великий князь Михаил Александрович.[2] Начальником штаба дивизии был назначен полковник Яков Давидович Юзефович, литовский татарин магометанского вероисповедания, служивший в Ставке Верховного Главнокомандующего.\\n\\n В это время дивизией командовал брат Государя, великий князь Михаил Александрович. Его начальник штаба, полковник Юзефович, имел секретную инструкцию, в которой, между прочим, строжайше приказывалось беречь жизнь великого князя и, по возможности, не допускать его в сферу действительного огня. Михаил Александрович — человек по натуре скромный, но отнюдь не робкий, явно тяготился такой опекой. И, воспользовавшись однажды тем, что Юзефович после завтрака лег спать, велел поседлать коней и со своими адъютантами проехал к нам, на передовую позицию. После его отъезда в штабе дивизии поднялась суматоха, разбуженный Юзефович полетел вслед за великим князем и, отыскав его, стал уговаривать вернуться в штаб. Михаил Александрович, видимо смущенный, все же не обратил на это внимания и оставался некоторое время с нами.\\n\\n — Деникин А. И. Путь русского офицера\\n\\nПо приказу от 21 августа 1917 года Верховного главнокомандующего генерала от инфантерии Л. Г. Корнилова, Кавказская туземная конная дивизия была переформирована в Кавказский Туземный конный корпус.[3] С этой целью в состав дивизии были переданы Дагестанский и два осетинских конных полка. После сформирования корпус должен был быть направлен на Кавказ в распоряжение командующего Кавказской армией. Однако 2 сентября, в связи с «делом Корнилова», приказом Временного правительства командир Кавказского туземного конного корпуса генерал-лейтенант князь Багратион и командующий 1-й Кавказской туземной конной дивизией генерал-майор князь Гагарин были освобождены от своих должностей. В тот же день приказом Временного правительства генерал П. А. Половцев был назначен командиром Кавказского туземного конного корпуса. Начальником 1-й Кавказской туземной конной дивизии был назначен генерал-майор принц Фейзулла Мирза Каджар. Начальником 2-й Кавказской туземной конной дивизии был генерал-лейтенант И. З. Хоранов.[4] Генералу Половцеву удалось добиться от Керенского, чтобы ранее принятый приказ об отправке корпуса на Кавказ исполнили.\\n\\nВ конце сентября — начале октября 1917 года части и подразделения корпуса были переброшены на Кавказ. Штаб корпуса находился во Владикавказе, а штаб 1-й Кавказской туземной конной дивизии — в Пятигорске. К январю 1918 года Кавказский туземный конный корпус прекратил своё существование. (Так что довольно удачный прецедент в истории России был, а история имеет свойство повторяться...).', 'intent': 'Ж4', 'content': '3.0', 'intervention': ''})]\n",
            "Constructing subgraph...\n",
            "igraph.Vertex(<igraph.Graph object at 0x7f83d99db138>, 32, {'attachments': '', 'date': '1503273002', 'from_id': '212488009', 'comment_id': '437790', 'reply_to_comment': '437705', 'reply_to_user': '437072715', 'text': '[id437072715|Finest], В соответствии с приказом императора Николая II о создании Кавказской туземной конной дивизии от 23 августа 1914 года дивизию составляли управление и три бригады по два кавказских туземных конных полка (каждый в 4 эскадрона). В состав дивизии входили следующие формирования:\\n\\n 1-я бригада состояла из Кабардинского конного полка (состоявшего из кабардинцев и балкарцев) и 2-го Дагестанского конного полка (состоявшего из дагестанцев).\\n 2-я бригада состояла из Татарского конного полка (состоявшего из азербайджанцев) и Чеченского конного полка (состоявшего из чеченцев).\\n 3-я бригада состояла из Черкесского конного полка (состоявшего из черкесов, абазин, абхазов и карачаевцев) и Ингушского конного полка (состоявшего из ингушей).\\n\\nСогласно утверждённым штатам, каждый конный полк состоял из 22 офицеров, 3 военных чиновников, 1 полкового муллы, 575 строевых нижних чинов (всадников) и 68 нестроевых нижних чинов.\\n\\nДивизии также были приданы Осетинская пешая бригада и 8-й Донской казачий артиллерийский дивизион.\\n\\nКо времени создания дивизии во время Первой мировой войны в составе русской армии находились также Кавказская кавалерийская дивизия, пять кавказских казачьих, пять кавказских стрелковых и Кавказская гренадерская дивизии. В связи с этим новая дивизия получила название Кавказской туземной конной.\\nВеликий князь Михаил Александрович в форме дивизии с женой Натальей\\n\\nКомандиром кавказской туземной конной дивизии высочайшим приказом от 23 августа был назначен младший брат царя, Свиты Его Величества генерал-майор великий князь Михаил Александрович.[2] Начальником штаба дивизии был назначен полковник Яков Давидович Юзефович, литовский татарин магометанского вероисповедания, служивший в Ставке Верховного Главнокомандующего.\\n\\n В это время дивизией командовал брат Государя, великий князь Михаил Александрович. Его начальник штаба, полковник Юзефович, имел секретную инструкцию, в которой, между прочим, строжайше приказывалось беречь жизнь великого князя и, по возможности, не допускать его в сферу действительного огня. Михаил Александрович — человек по натуре скромный, но отнюдь не робкий, явно тяготился такой опекой. И, воспользовавшись однажды тем, что Юзефович после завтрака лег спать, велел поседлать коней и со своими адъютантами проехал к нам, на передовую позицию. После его отъезда в штабе дивизии поднялась суматоха, разбуженный Юзефович полетел вслед за великим князем и, отыскав его, стал уговаривать вернуться в штаб. Михаил Александрович, видимо смущенный, все же не обратил на это внимания и оставался некоторое время с нами.\\n\\n — Деникин А. И. Путь русского офицера\\n\\nПо приказу от 21 августа 1917 года Верховного главнокомандующего генерала от инфантерии Л. Г. Корнилова, Кавказская туземная конная дивизия была переформирована в Кавказский Туземный конный корпус.[3] С этой целью в состав дивизии были переданы Дагестанский и два осетинских конных полка. После сформирования корпус должен был быть направлен на Кавказ в распоряжение командующего Кавказской армией. Однако 2 сентября, в связи с «делом Корнилова», приказом Временного правительства командир Кавказского туземного конного корпуса генерал-лейтенант князь Багратион и командующий 1-й Кавказской туземной конной дивизией генерал-майор князь Гагарин были освобождены от своих должностей. В тот же день приказом Временного правительства генерал П. А. Половцев был назначен командиром Кавказского туземного конного корпуса. Начальником 1-й Кавказской туземной конной дивизии был назначен генерал-майор принц Фейзулла Мирза Каджар. Начальником 2-й Кавказской туземной конной дивизии был генерал-лейтенант И. З. Хоранов.[4] Генералу Половцеву удалось добиться от Керенского, чтобы ранее принятый приказ об отправке корпуса на Кавказ исполнили.\\n\\nВ конце сентября — начале октября 1917 года части и подразделения корпуса были переброшены на Кавказ. Штаб корпуса находился во Владикавказе, а штаб 1-й Кавказской туземной конной дивизии — в Пятигорске. К январю 1918 года Кавказский туземный конный корпус прекратил своё существование. (Так что довольно удачный прецедент в истории России был, а история имеет свойство повторяться...).', 'intent': 'Ж4', 'content': '3.0', 'intervention': ''})\n",
            "igraph.Vertex(<igraph.Graph object at 0x7f83d99db138>, 33, {'attachments': '', 'date': '1503429006', 'from_id': '437072715', 'comment_id': '438393', 'reply_to_comment': '437790', 'reply_to_user': '212488009', 'text': '[id212488009|Нелли], спасибо за так подробно расписанный эпизод в истории) действительно, мы же братские народы, которые живут сообща (как бы банально и изъезженно это ни звучало)\\nда и по тому, что я знаю о кавказских народах, и то, что мы видим на различных олимпиадах, когда кавказцы зарабатывают призовые места, говорят о том, что они прекрасные бойцы!', 'intent': 'Х2, Х4', 'content': '3.0', 'intervention': 'n'})\n",
            "igraph.Vertex(<igraph.Graph object at 0x7f83d99db138>, 35, {'attachments': '', 'date': '1503441793', 'from_id': '212488009', 'comment_id': '438431', 'reply_to_comment': '438393', 'reply_to_user': '437072715', 'text': '[id437072715|Finest], Кто-то живет наукой, кто-то живет искусством,\\nКто-то, охвачен злобой, в мире творит безумство -\\nРежет и убивает, ненависть сеет, хаос,\\nДолго так не бывает - сколько всем жить осталось?', 'intent': 'П4', 'content': '4.0', 'intervention': ''})\n",
            "igraph.Vertex(<igraph.Graph object at 0x7f83d99db138>, 34, {'attachments': '', 'date': '1503440337', 'from_id': '212488009', 'comment_id': '438430', 'reply_to_comment': '438393', 'reply_to_user': '437072715', 'text': '[id437072715|Finest], некоторым цивилизаторам (например, гражданам страны-подростка-США)следовало быть поскромнее, силой навязывая свой образ жизни и свои ценности \" дикарям \" с древнейшей историей, культурой и наукой (врач древности Абу-Али аль Хусейн ибн Сина (Авиценна) - великий перс (иранец)), Омар Хайям (великий персидский философ, математик, астроном и Поэт -почитайте его потрясающие рубаи!), писатели -философы Низами, Лахути и сотни других древних ученых, музыкантов и поэтов Азии усмехаются, наблюдая (если это возможно) из потустороннего мира эти воистину дикарские способы окультурить их потомков. Они просто другие ( я не говорю о новоявленных извращенцах-ваххабитах ( у нас тоже немало идиотов -извращенцев истории России)! Я говорю о традиционном Исламе, в мире с которым сотни лет процветало Православие В Российской Империи и все вероучения, подспудно существовавшие в СССР, включая и официальную идею построения коммунизма. Мы обольстились неолиберальными ценностями вседозволенности Запада , а потом удивились: Кавказцы нас не уважают.\\nМы азиатам - не пример.\\nНас оскорбляют, унижают,\\nНе то, что прежде в СССР.\\n\\nТак прекратите пить, колоться,\\nПупки и попки обнажать\\nИ уважение вернется.\\nВам станут в лучшем подражать.\\n\\nНе материтесь через слово.\\nВернитесь в созиданья труд.\\nЛюбить себя - девиз не новый -\\nЗа это орден не дают.\".', 'intent': 'Ж4', 'content': '4.0', 'intervention': ''})\n",
            "[31, 32, 33, 35, 34]\n",
            "33\n",
            "[igraph.Vertex(<igraph.Graph object at 0x7f83d99db138>, 34, {'attachments': '', 'date': '1503440337', 'from_id': '212488009', 'comment_id': '438430', 'reply_to_comment': '438393', 'reply_to_user': '437072715', 'text': '[id437072715|Finest], некоторым цивилизаторам (например, гражданам страны-подростка-США)следовало быть поскромнее, силой навязывая свой образ жизни и свои ценности \" дикарям \" с древнейшей историей, культурой и наукой (врач древности Абу-Али аль Хусейн ибн Сина (Авиценна) - великий перс (иранец)), Омар Хайям (великий персидский философ, математик, астроном и Поэт -почитайте его потрясающие рубаи!), писатели -философы Низами, Лахути и сотни других древних ученых, музыкантов и поэтов Азии усмехаются, наблюдая (если это возможно) из потустороннего мира эти воистину дикарские способы окультурить их потомков. Они просто другие ( я не говорю о новоявленных извращенцах-ваххабитах ( у нас тоже немало идиотов -извращенцев истории России)! Я говорю о традиционном Исламе, в мире с которым сотни лет процветало Православие В Российской Империи и все вероучения, подспудно существовавшие в СССР, включая и официальную идею построения коммунизма. Мы обольстились неолиберальными ценностями вседозволенности Запада , а потом удивились: Кавказцы нас не уважают.\\nМы азиатам - не пример.\\nНас оскорбляют, унижают,\\nНе то, что прежде в СССР.\\n\\nТак прекратите пить, колоться,\\nПупки и попки обнажать\\nИ уважение вернется.\\nВам станут в лучшем подражать.\\n\\nНе материтесь через слово.\\nВернитесь в созиданья труд.\\nЛюбить себя - девиз не новый -\\nЗа это орден не дают.\".', 'intent': 'Ж4', 'content': '4.0', 'intervention': ''}), igraph.Vertex(<igraph.Graph object at 0x7f83d99db138>, 35, {'attachments': '', 'date': '1503441793', 'from_id': '212488009', 'comment_id': '438431', 'reply_to_comment': '438393', 'reply_to_user': '437072715', 'text': '[id437072715|Finest], Кто-то живет наукой, кто-то живет искусством,\\nКто-то, охвачен злобой, в мире творит безумство -\\nРежет и убивает, ненависть сеет, хаос,\\nДолго так не бывает - сколько всем жить осталось?', 'intent': 'П4', 'content': '4.0', 'intervention': ''})]\n",
            "Constructing subgraph...\n",
            "igraph.Vertex(<igraph.Graph object at 0x7f83d99db138>, 34, {'attachments': '', 'date': '1503440337', 'from_id': '212488009', 'comment_id': '438430', 'reply_to_comment': '438393', 'reply_to_user': '437072715', 'text': '[id437072715|Finest], некоторым цивилизаторам (например, гражданам страны-подростка-США)следовало быть поскромнее, силой навязывая свой образ жизни и свои ценности \" дикарям \" с древнейшей историей, культурой и наукой (врач древности Абу-Али аль Хусейн ибн Сина (Авиценна) - великий перс (иранец)), Омар Хайям (великий персидский философ, математик, астроном и Поэт -почитайте его потрясающие рубаи!), писатели -философы Низами, Лахути и сотни других древних ученых, музыкантов и поэтов Азии усмехаются, наблюдая (если это возможно) из потустороннего мира эти воистину дикарские способы окультурить их потомков. Они просто другие ( я не говорю о новоявленных извращенцах-ваххабитах ( у нас тоже немало идиотов -извращенцев истории России)! Я говорю о традиционном Исламе, в мире с которым сотни лет процветало Православие В Российской Империи и все вероучения, подспудно существовавшие в СССР, включая и официальную идею построения коммунизма. Мы обольстились неолиберальными ценностями вседозволенности Запада , а потом удивились: Кавказцы нас не уважают.\\nМы азиатам - не пример.\\nНас оскорбляют, унижают,\\nНе то, что прежде в СССР.\\n\\nТак прекратите пить, колоться,\\nПупки и попки обнажать\\nИ уважение вернется.\\nВам станут в лучшем подражать.\\n\\nНе материтесь через слово.\\nВернитесь в созиданья труд.\\nЛюбить себя - девиз не новый -\\nЗа это орден не дают.\".', 'intent': 'Ж4', 'content': '4.0', 'intervention': ''})\n",
            "igraph.Vertex(<igraph.Graph object at 0x7f83d99db138>, 35, {'attachments': '', 'date': '1503441793', 'from_id': '212488009', 'comment_id': '438431', 'reply_to_comment': '438393', 'reply_to_user': '437072715', 'text': '[id437072715|Finest], Кто-то живет наукой, кто-то живет искусством,\\nКто-то, охвачен злобой, в мире творит безумство -\\nРежет и убивает, ненависть сеет, хаос,\\nДолго так не бывает - сколько всем жить осталось?', 'intent': 'П4', 'content': '4.0', 'intervention': ''})\n",
            "[33, 34, 35]\n",
            "37\n",
            "[igraph.Vertex(<igraph.Graph object at 0x7f83d99db138>, 38, {'attachments': '', 'date': '1503527971', 'from_id': '212488009', 'comment_id': '438662', 'reply_to_comment': '438644', 'reply_to_user': '437072715', 'text': '[id437072715|Finest], yes...Иногда \"накрывает\"...', 'intent': 'Е1', 'content': '4.0', 'intervention': ''})]\n",
            "Constructing subgraph...\n",
            "igraph.Vertex(<igraph.Graph object at 0x7f83d99db138>, 38, {'attachments': '', 'date': '1503527971', 'from_id': '212488009', 'comment_id': '438662', 'reply_to_comment': '438644', 'reply_to_user': '437072715', 'text': '[id437072715|Finest], yes...Иногда \"накрывает\"...', 'intent': 'Е1', 'content': '4.0', 'intervention': ''})\n",
            "igraph.Vertex(<igraph.Graph object at 0x7f83d99db138>, 39, {'attachments': '', 'date': '1503599398', 'from_id': '437072715', 'comment_id': '438912', 'reply_to_comment': '438662', 'reply_to_user': '212488009', 'text': '[id212488009|Нелли], Вы молодец! Глубокие рассуждения, нечасто такие стихи встретишь) чаще про любовь встречаются все))', 'intent': 'Х2 ', 'content': '4.0', 'intervention': 'n'})\n",
            "igraph.Vertex(<igraph.Graph object at 0x7f83d99db138>, 40, {'attachments': '', 'date': '1503610033', 'from_id': '212488009', 'comment_id': '438967', 'reply_to_comment': '438912', 'reply_to_user': '437072715', 'text': '[id437072715|Finest], все просто: возраст любви - позади. Осталась любовь к детям, внукам и стране. Приятно, что Вы из тех молодых, которых не только любовь (или поиск ее) занимает. Это очень обнадеживает. Успехов Вам во всем(включая и личную Жизнь, разумеется).', 'intent': 'Д3', 'content': '4.0', 'intervention': ''})\n",
            "igraph.Vertex(<igraph.Graph object at 0x7f83d99db138>, 41, {'attachments': '', 'date': '1503688723', 'from_id': '437072715', 'comment_id': '439235', 'reply_to_comment': '438967', 'reply_to_user': '212488009', 'text': '[id212488009|Нелли], спасибо большое, очень приятно! Успехов и Вам! Счастья, здоровья внучаткам)', 'intent': 'Д3', 'content': '4.0', 'intervention': 'n'})\n",
            "[37, 38, 39, 40, 41]\n",
            "39\n",
            "[igraph.Vertex(<igraph.Graph object at 0x7f83d99db138>, 40, {'attachments': '', 'date': '1503610033', 'from_id': '212488009', 'comment_id': '438967', 'reply_to_comment': '438912', 'reply_to_user': '437072715', 'text': '[id437072715|Finest], все просто: возраст любви - позади. Осталась любовь к детям, внукам и стране. Приятно, что Вы из тех молодых, которых не только любовь (или поиск ее) занимает. Это очень обнадеживает. Успехов Вам во всем(включая и личную Жизнь, разумеется).', 'intent': 'Д3', 'content': '4.0', 'intervention': ''})]\n",
            "Constructing subgraph...\n",
            "igraph.Vertex(<igraph.Graph object at 0x7f83d99db138>, 40, {'attachments': '', 'date': '1503610033', 'from_id': '212488009', 'comment_id': '438967', 'reply_to_comment': '438912', 'reply_to_user': '437072715', 'text': '[id437072715|Finest], все просто: возраст любви - позади. Осталась любовь к детям, внукам и стране. Приятно, что Вы из тех молодых, которых не только любовь (или поиск ее) занимает. Это очень обнадеживает. Успехов Вам во всем(включая и личную Жизнь, разумеется).', 'intent': 'Д3', 'content': '4.0', 'intervention': ''})\n",
            "igraph.Vertex(<igraph.Graph object at 0x7f83d99db138>, 41, {'attachments': '', 'date': '1503688723', 'from_id': '437072715', 'comment_id': '439235', 'reply_to_comment': '438967', 'reply_to_user': '212488009', 'text': '[id212488009|Нелли], спасибо большое, очень приятно! Успехов и Вам! Счастья, здоровья внучаткам)', 'intent': 'Д3', 'content': '4.0', 'intervention': 'n'})\n",
            "[39, 40, 41]\n",
            "41\n",
            "[]\n",
            "Constructing subgraph...\n",
            "[41]\n",
            "[<igraph.Graph object at 0x7f83d99db048>, <igraph.Graph object at 0x7f83d99db228>, <igraph.Graph object at 0x7f83d99db318>, <igraph.Graph object at 0x7f83d99db408>, <igraph.Graph object at 0x7f83d99db4f8>, <igraph.Graph object at 0x7f83d99db9a8>]\n"
          ],
          "name": "stdout"
        }
      ]
    },
    {
      "metadata": {
        "id": "glOugYge5jBY",
        "colab_type": "code",
        "colab": {}
      },
      "cell_type": "code",
      "source": [
        "import os\n",
        "filenames = list()\n",
        "for directory, subdirectories, files in os.walk('drive/Проверено'):\n",
        "    for file in files:\n",
        "        filenames.append(os.path.join(directory,file))\n",
        "for filename in filenames:\n",
        "  filename = filename.replace(\" \", \" \")\n",
        "  xlsx_to_gml(filename)\n"
      ],
      "execution_count": 0,
      "outputs": []
    },
    {
      "metadata": {
        "id": "FtYWPank4owu",
        "colab_type": "code",
        "colab": {
          "base_uri": "https://localhost:8080/",
          "height": 34
        },
        "outputId": "76b8d7a2-42d7-4715-ea56-feed8bdb7f36"
      },
      "cell_type": "code",
      "source": [
        "import pandas as pd\n",
        "import numpy as np\n",
        "kek_list = list()\n",
        "kek_list.append('45')\n",
        "kek_list.append('42352342')\n",
        "\n",
        "kek_df = pd.DataFrame({'id' : kek_list})\n",
        "data = np.array([np.arange(10)+1]*3).T\n",
        "topkek_df = pd.DataFrame(data, columns = ['id','name','intent'])\n",
        "topkek_df = topkek_df.append(kek_df, ignore_index = True)\n",
        "len(topkek_df)"
      ],
      "execution_count": 0,
      "outputs": [
        {
          "output_type": "execute_result",
          "data": {
            "text/plain": [
              "12"
            ]
          },
          "metadata": {
            "tags": []
          },
          "execution_count": 15
        }
      ]
    },
    {
      "metadata": {
        "id": "fezPbwDV6xTY",
        "colab_type": "code",
        "colab": {
          "base_uri": "https://localhost:8080/",
          "height": 2366
        },
        "outputId": "a7b7d6a9-5d34-42a4-b4b7-01323b26feaa"
      },
      "cell_type": "code",
      "source": [
        ""
      ],
      "execution_count": 2,
      "outputs": [
        {
          "output_type": "stream",
          "text": [
            "Preconfiguring packages ...\n",
            "Selecting previously unselected package cron.\n",
            "(Reading database ... 18408 files and directories currently installed.)\n",
            "Preparing to unpack .../00-cron_3.0pl1-128ubuntu5_amd64.deb ...\n",
            "Unpacking cron (3.0pl1-128ubuntu5) ...\n",
            "Selecting previously unselected package libapparmor1:amd64.\n",
            "Preparing to unpack .../01-libapparmor1_2.11.0-2ubuntu17.1_amd64.deb ...\n",
            "Unpacking libapparmor1:amd64 (2.11.0-2ubuntu17.1) ...\n",
            "Selecting previously unselected package libdbus-1-3:amd64.\n",
            "Preparing to unpack .../02-libdbus-1-3_1.10.22-1ubuntu1_amd64.deb ...\n",
            "Unpacking libdbus-1-3:amd64 (1.10.22-1ubuntu1) ...\n",
            "Selecting previously unselected package dbus.\n",
            "Preparing to unpack .../03-dbus_1.10.22-1ubuntu1_amd64.deb ...\n",
            "Unpacking dbus (1.10.22-1ubuntu1) ...\n",
            "Selecting previously unselected package dirmngr.\n",
            "Preparing to unpack .../04-dirmngr_2.1.15-1ubuntu8.1_amd64.deb ...\n",
            "Unpacking dirmngr (2.1.15-1ubuntu8.1) ...\n",
            "Selecting previously unselected package distro-info-data.\n",
            "Preparing to unpack .../05-distro-info-data_0.36ubuntu0.2_all.deb ...\n",
            "Unpacking distro-info-data (0.36ubuntu0.2) ...\n",
            "Selecting previously unselected package libkmod2:amd64.\n",
            "Preparing to unpack .../06-libkmod2_24-1ubuntu2_amd64.deb ...\n",
            "Unpacking libkmod2:amd64 (24-1ubuntu2) ...\n",
            "Selecting previously unselected package kmod.\n",
            "Preparing to unpack .../07-kmod_24-1ubuntu2_amd64.deb ...\n",
            "Unpacking kmod (24-1ubuntu2) ...\n",
            "Selecting previously unselected package lsb-release.\n",
            "Preparing to unpack .../08-lsb-release_9.20160110ubuntu5_all.deb ...\n",
            "Unpacking lsb-release (9.20160110ubuntu5) ...\n",
            "Selecting previously unselected package libgirepository-1.0-1:amd64.\n",
            "Preparing to unpack .../09-libgirepository-1.0-1_1.54.1-1_amd64.deb ...\n",
            "Unpacking libgirepository-1.0-1:amd64 (1.54.1-1) ...\n",
            "Selecting previously unselected package gir1.2-glib-2.0:amd64.\n",
            "Preparing to unpack .../10-gir1.2-glib-2.0_1.54.1-1_amd64.deb ...\n",
            "Unpacking gir1.2-glib-2.0:amd64 (1.54.1-1) ...\n",
            "Selecting previously unselected package iso-codes.\n",
            "Preparing to unpack .../11-iso-codes_3.75-1_all.deb ...\n",
            "Unpacking iso-codes (3.75-1) ...\n",
            "Selecting previously unselected package libdbus-glib-1-2:amd64.\n",
            "Preparing to unpack .../12-libdbus-glib-1-2_0.108-2_amd64.deb ...\n",
            "Unpacking libdbus-glib-1-2:amd64 (0.108-2) ...\n",
            "Selecting previously unselected package python-apt-common.\n",
            "Preparing to unpack .../13-python-apt-common_1.4.0~beta3build2_all.deb ...\n",
            "Unpacking python-apt-common (1.4.0~beta3build2) ...\n",
            "Selecting previously unselected package python3-apt.\n",
            "Preparing to unpack .../14-python3-apt_1.4.0~beta3build2_amd64.deb ...\n",
            "Unpacking python3-apt (1.4.0~beta3build2) ...\n",
            "Selecting previously unselected package python3-dbus.\n",
            "Preparing to unpack .../15-python3-dbus_1.2.4-1build3_amd64.deb ...\n",
            "Unpacking python3-dbus (1.2.4-1build3) ...\n",
            "Selecting previously unselected package python3-gi.\n",
            "Preparing to unpack .../16-python3-gi_3.24.1-2build1_amd64.deb ...\n",
            "Unpacking python3-gi (3.24.1-2build1) ...\n",
            "Selecting previously unselected package module-init-tools.\n",
            "Preparing to unpack .../17-module-init-tools_24-1ubuntu2_all.deb ...\n",
            "Unpacking module-init-tools (24-1ubuntu2) ...\n",
            "Selecting previously unselected package python-apt.\n",
            "Preparing to unpack .../18-python-apt_1.4.0~beta3build2_amd64.deb ...\n",
            "Unpacking python-apt (1.4.0~beta3build2) ...\n",
            "Selecting previously unselected package python-pycurl.\n",
            "Preparing to unpack .../19-python-pycurl_7.43.0-2build2_amd64.deb ...\n",
            "Unpacking python-pycurl (7.43.0-2build2) ...\n",
            "Selecting previously unselected package python-software-properties.\n",
            "Preparing to unpack .../20-python-software-properties_0.96.24.17_all.deb ...\n",
            "Unpacking python-software-properties (0.96.24.17) ...\n",
            "Selecting previously unselected package python3-software-properties.\n",
            "Preparing to unpack .../21-python3-software-properties_0.96.24.17_all.deb ...\n",
            "Unpacking python3-software-properties (0.96.24.17) ...\n",
            "Selecting previously unselected package software-properties-common.\n",
            "Preparing to unpack .../22-software-properties-common_0.96.24.17_all.deb ...\n",
            "Unpacking software-properties-common (0.96.24.17) ...\n",
            "Selecting previously unselected package unattended-upgrades.\n",
            "Preparing to unpack .../23-unattended-upgrades_0.98ubuntu1.1_all.deb ...\n",
            "Unpacking unattended-upgrades (0.98ubuntu1.1) ...\n",
            "Setting up python-apt-common (1.4.0~beta3build2) ...\n",
            "Setting up python3-apt (1.4.0~beta3build2) ...\n",
            "Setting up iso-codes (3.75-1) ...\n",
            "Setting up distro-info-data (0.36ubuntu0.2) ...\n",
            "Setting up python-pycurl (7.43.0-2build2) ...\n",
            "Setting up lsb-release (9.20160110ubuntu5) ...\n",
            "Setting up libgirepository-1.0-1:amd64 (1.54.1-1) ...\n",
            "Setting up libkmod2:amd64 (24-1ubuntu2) ...\n",
            "Setting up gir1.2-glib-2.0:amd64 (1.54.1-1) ...\n",
            "Processing triggers for libc-bin (2.26-0ubuntu2.1) ...\n",
            "Setting up libapparmor1:amd64 (2.11.0-2ubuntu17.1) ...\n",
            "Setting up unattended-upgrades (0.98ubuntu1.1) ...\n",
            "\n",
            "Creating config file /etc/apt/apt.conf.d/20auto-upgrades with new version\n",
            "\n",
            "Creating config file /etc/apt/apt.conf.d/50unattended-upgrades with new version\n",
            "invoke-rc.d: could not determine current runlevel\n",
            "invoke-rc.d: policy-rc.d denied execution of start.\n",
            "Setting up dirmngr (2.1.15-1ubuntu8.1) ...\n",
            "Setting up cron (3.0pl1-128ubuntu5) ...\n",
            "Adding group `crontab' (GID 102) ...\n",
            "Done.\n",
            "update-rc.d: warning: start and stop actions are no longer supported; falling back to defaults\n",
            "update-rc.d: warning: stop runlevel arguments (1) do not match cron Default-Stop values (none)\n",
            "invoke-rc.d: could not determine current runlevel\n",
            "invoke-rc.d: policy-rc.d denied execution of start.\n",
            "Setting up libdbus-1-3:amd64 (1.10.22-1ubuntu1) ...\n",
            "Setting up kmod (24-1ubuntu2) ...\n",
            "Setting up libdbus-glib-1-2:amd64 (0.108-2) ...\n",
            "Setting up python3-gi (3.24.1-2build1) ...\n",
            "Setting up module-init-tools (24-1ubuntu2) ...\n",
            "Setting up python3-software-properties (0.96.24.17) ...\n",
            "Setting up dbus (1.10.22-1ubuntu1) ...\n",
            "Setting up python-apt (1.4.0~beta3build2) ...\n",
            "Setting up python3-dbus (1.2.4-1build3) ...\n",
            "Setting up python-software-properties (0.96.24.17) ...\n",
            "Setting up software-properties-common (0.96.24.17) ...\n",
            "Processing triggers for libc-bin (2.26-0ubuntu2.1) ...\n",
            "Processing triggers for dbus (1.10.22-1ubuntu1) ...\n",
            "gpg: keybox '/tmp/tmpxoeoblz0/pubring.gpg' created\n",
            "gpg: /tmp/tmpxoeoblz0/trustdb.gpg: trustdb created\n",
            "gpg: key AD5F235DF639B041: public key \"Launchpad PPA for Alessandro Strada\" imported\n",
            "gpg: Total number processed: 1\n",
            "gpg:               imported: 1\n",
            "Warning: apt-key output should not be parsed (stdout is not a terminal)\n",
            "Selecting previously unselected package libfuse2:amd64.\n",
            "(Reading database ... 19816 files and directories currently installed.)\n",
            "Preparing to unpack .../libfuse2_2.9.7-1ubuntu1_amd64.deb ...\n",
            "Unpacking libfuse2:amd64 (2.9.7-1ubuntu1) ...\n",
            "Selecting previously unselected package fuse.\n",
            "Preparing to unpack .../fuse_2.9.7-1ubuntu1_amd64.deb ...\n",
            "Unpacking fuse (2.9.7-1ubuntu1) ...\n",
            "Selecting previously unselected package google-drive-ocamlfuse.\n",
            "Preparing to unpack .../google-drive-ocamlfuse_0.6.21-0ubuntu2_amd64.deb ...\n",
            "Unpacking google-drive-ocamlfuse (0.6.21-0ubuntu2) ...\n",
            "Setting up libfuse2:amd64 (2.9.7-1ubuntu1) ...\n",
            "Processing triggers for libc-bin (2.26-0ubuntu2.1) ...\n",
            "Setting up fuse (2.9.7-1ubuntu1) ...\n",
            "Setting up google-drive-ocamlfuse (0.6.21-0ubuntu2) ...\n",
            "Please, open the following URL in a web browser: https://accounts.google.com/o/oauth2/auth?client_id=32555940559.apps.googleusercontent.com&redirect_uri=urn%3Aietf%3Awg%3Aoauth%3A2.0%3Aoob&scope=https%3A%2F%2Fwww.googleapis.com%2Fauth%2Fdrive&response_type=code&access_type=offline&approval_prompt=force\n",
            "··········\n",
            "Please, open the following URL in a web browser: https://accounts.google.com/o/oauth2/auth?client_id=32555940559.apps.googleusercontent.com&redirect_uri=urn%3Aietf%3Awg%3Aoauth%3A2.0%3Aoob&scope=https%3A%2F%2Fwww.googleapis.com%2Fauth%2Fdrive&response_type=code&access_type=offline&approval_prompt=force\n",
            "Please enter the verification code: Access token retrieved correctly.\n"
          ],
          "name": "stdout"
        }
      ]
    },
    {
      "metadata": {
        "id": "2ace1wHl-n8C",
        "colab_type": "code",
        "colab": {
          "base_uri": "https://localhost:8080/",
          "height": 34
        },
        "outputId": "ceb9b2e2-30f4-4ca8-979d-94102ff5436f"
      },
      "cell_type": "code",
      "source": [
        "filename = ('drive/Проверено/Проверено_Плотниковой/Набокова_кодКудрявцевой_провереноПлотниковой/25106701_437584.xlsx')\n",
        "filename = filename[len(filename)-11:len(filename)-5]\n",
        "filename"
      ],
      "execution_count": 0,
      "outputs": [
        {
          "output_type": "execute_result",
          "data": {
            "text/plain": [
              "'437584'"
            ]
          },
          "metadata": {
            "tags": []
          },
          "execution_count": 57
        }
      ]
    },
    {
      "metadata": {
        "id": "czxKjOhGRnwr",
        "colab_type": "code",
        "colab": {
          "base_uri": "https://localhost:8080/",
          "height": 119
        },
        "outputId": "5074a80b-f005-4e2a-f39c-63229f62ff43"
      },
      "cell_type": "code",
      "source": [
        "print(post_Graph.subgraph((29,30,31,32)))"
      ],
      "execution_count": 63,
      "outputs": [
        {
          "output_type": "stream",
          "text": [
            "IGRAPH D--- 4 2 --\n",
            "+ attr: attachments (v), comment_id (v), content (v), date (v), from_id (v),\n",
            "  intent (v), intervention (v), reply_to_comment (v), reply_to_user (v), text\n",
            "  (v)\n",
            "+ edges:\n",
            "1->2 2->3\n"
          ],
          "name": "stdout"
        }
      ]
    },
    {
      "metadata": {
        "id": "6joBZRT_ruhv",
        "colab_type": "code",
        "colab": {
          "base_uri": "https://localhost:8080/",
          "height": 54
        },
        "outputId": "b4391b36-5986-450a-d8e1-e7206dc27f20"
      },
      "cell_type": "code",
      "source": [
        "for directory, subdirectories, files in os.walk('drive/Проверено'):\n",
        "    for file in files:\n",
        "        filenames.append(os.path.join(directory,file))\n",
        "print(filenames)"
      ],
      "execution_count": 0,
      "outputs": [
        {
          "output_type": "stream",
          "text": [
            "['drive/Проверено/Проверено_Кудрявцевой /Плотникова_кодНабоковой/25106701_441061.xlsx', 'drive/Проверено/Проверено_Кудрявцевой /Плотникова_кодНабоковой/25106701_441003.xlsx', 'drive/Проверено/Проверено_Кудрявцевой /Плотникова_кодНабоковой/25106701_440568.xlsx', 'drive/Проверено/Проверено_Кудрявцевой /Плотникова_кодНабоковой/25106701_440697.xlsx', 'drive/Проверено/Проверено_Кудрявцевой /Плотникова_кодНабоковой/25106701_441192.xlsx', 'drive/Проверено/Проверено_Кудрявцевой /Плотникова_кодНабоковой/25106701_440603.xlsx', 'drive/Проверено/Проверено_Кудрявцевой /Плотникова_кодНабоковой/25106701_441157.xlsx', 'drive/Проверено/Проверено_Кудрявцевой /Плотникова_кодНабоковой/25106701_440544.xlsx', 'drive/Проверено/Проверено_Кудрявцевой /Плотникова_кодНабоковой/25106701_440664.xlsx', 'drive/Проверено/Проверено_Кудрявцевой /Плотникова_кодНабоковой/25106701_441680.xlsx', 'drive/Проверено/Проверено_Кудрявцевой /Плотникова_кодНабоковой/25106701_440883.xlsx', 'drive/Проверено/Проверено_Кудрявцевой /Плотникова_кодНабоковой/25106701_440687.xlsx', 'drive/Проверено/Проверено_Кудрявцевой /Плотникова_кодНабоковой/25106701_441412.xlsx', 'drive/Проверено/Проверено_Кудрявцевой /Плотникова_кодНабоковой/25106701_439438.xlsx', 'drive/Проверено/Проверено_Кудрявцевой /Плотникова_кодНабоковой/25106701_439854.xlsx', 'drive/Проверено/Проверено_Кудрявцевой /Плотникова_кодНабоковой/25106701_442090.xlsx', 'drive/Проверено/Проверено_Кудрявцевой /Плотникова_кодНабоковой/25106701_440515.xlsx', 'drive/Проверено/Проверено_Кудрявцевой /Плотникова_кодНабоковой/25106701_439555.xlsx', 'drive/Проверено/Проверено_Кудрявцевой /Плотникова_кодНабоковой/25106701_439692.xlsx', 'drive/Проверено/Проверено_Кудрявцевой /Плотникова_кодНабоковой/25106701_442064.xlsx', 'drive/Проверено/Проверено_Кудрявцевой /Плотникова_кодНабоковой/25106701_439658.xlsx', 'drive/Проверено/Проверено_Кудрявцевой /Плотникова_кодНабоковой/25106701_440365.xlsx', 'drive/Проверено/Проверено_Кудрявцевой /Плотникова_кодНабоковой/25106701_440253.xlsx', 'drive/Проверено/Проверено_Кудрявцевой /Плотникова_кодНабоковой/25106701_440132.xlsx', 'drive/Проверено/Проверено_Кудрявцевой /Плотникова_кодТимофеевой/25106701_433776.xlsx', 'drive/Проверено/Проверено_Кудрявцевой /Плотникова_кодТимофеевой/25106701_434210.xlsx', 'drive/Проверено/Проверено_Кудрявцевой /Плотникова_кодТимофеевой/25106701_434179.xlsx', 'drive/Проверено/Проверено_Кудрявцевой /Плотникова_кодТимофеевой/25106701_434891.xlsx', 'drive/Проверено/Проверено_Кудрявцевой /Плотникова_кодТимофеевой/25106701_438701.xlsx', 'drive/Проверено/Проверено_Кудрявцевой /Плотникова_кодТимофеевой/25106701_441491.xlsx', 'drive/Проверено/Проверено_Кудрявцевой /Плотникова_кодТимофеевой/25106701_433978.xlsx', 'drive/Проверено/Проверено_Кудрявцевой /Плотникова_кодТимофеевой/25106701_433502.xlsx', 'drive/Проверено/Проверено_Кудрявцевой /Плотникова_кодТимофеевой/25106701_433747.xlsx', 'drive/Проверено/Проверено_Кудрявцевой /Плотникова_кодТимофеевой/25106701_434322.xlsx', 'drive/Проверено/Проверено_Кудрявцевой /Плотникова_кодТимофеевой/25106701_434868.xlsx', 'drive/Проверено/Проверено_Кудрявцевой /Плотникова_кодТимофеевой/25106701_441511.xlsx', 'drive/Проверено/Проверено_Кудрявцевой /Набокова_кодПлотниковой/25106701_441003.xlsx', 'drive/Проверено/Проверено_Кудрявцевой /Набокова_кодПлотниковой/25106701_440883.xlsx', 'drive/Проверено/Проверено_Кудрявцевой /Набокова_кодПлотниковой/25106701_440697.xlsx', 'drive/Проверено/Проверено_Кудрявцевой /Набокова_кодПлотниковой/25106701_440664.xlsx', 'drive/Проверено/Проверено_Кудрявцевой /Набокова_кодПлотниковой/25106701_441061.xlsx', 'drive/Проверено/Проверено_Кудрявцевой /Набокова_кодПлотниковой/25106701_440544.xlsx', 'drive/Проверено/Проверено_Кудрявцевой /Набокова_кодПлотниковой/25106701_440687.xlsx', 'drive/Проверено/Проверено_Кудрявцевой /Набокова_кодПлотниковой/25106701_440603.xlsx', 'drive/Проверено/Проверено_Кудрявцевой /Набокова_кодПлотниковой/25106701_440568.xlsx', 'drive/Проверено/Проверено_Кудрявцевой /Набокова_кодПлотниковой/25106701_440515.xlsx', 'drive/Проверено/Проверено_Кудрявцевой /Набокова_кодПлотниковой/25106701_441680.xlsx', 'drive/Проверено/Проверено_Кудрявцевой /Набокова_кодПлотниковой/25106701_441412.xlsx', 'drive/Проверено/Проверено_Кудрявцевой /Набокова_кодПлотниковой/25106701_441157.xlsx', 'drive/Проверено/Проверено_Кудрявцевой /Набокова_кодПлотниковой/25106701_442064.xlsx', 'drive/Проверено/Проверено_Кудрявцевой /Набокова_кодПлотниковой/25106701_439438.xlsx', 'drive/Проверено/Проверено_Кудрявцевой /Набокова_кодПлотниковой/25106701_439555.xlsx', 'drive/Проверено/Проверено_Кудрявцевой /Набокова_кодПлотниковой/25106701_441192.xlsx', 'drive/Проверено/Проверено_Кудрявцевой /Набокова_кодПлотниковой/25106701_439692.xlsx', 'drive/Проверено/Проверено_Кудрявцевой /Набокова_кодПлотниковой/25106701_442090.xlsx', 'drive/Проверено/Проверено_Кудрявцевой /Набокова_кодПлотниковой/25106701_439658.xlsx', 'drive/Проверено/Проверено_Кудрявцевой /Набокова_кодПлотниковой/25106701_439854.xlsx', 'drive/Проверено/Проверено_Кудрявцевой /Набокова_кодПлотниковой/25106701_440132.xlsx', 'drive/Проверено/Проверено_Кудрявцевой /Набокова_кодПлотниковой/25106701_440253.xlsx', 'drive/Проверено/Проверено_Кудрявцевой /Набокова_кодПлотниковой/25106701_440365.xlsx', 'drive/Проверено/Проверено_Плотниковой/Набокова_кодТимофеева_проверено Плотниковой/25106701_435248.xlsx', 'drive/Проверено/Проверено_Плотниковой/Набокова_кодТимофеева_проверено Плотниковой/25106701_435913.xlsx', 'drive/Проверено/Проверено_Плотниковой/Набокова_кодТимофеева_проверено Плотниковой/25106701_435302.xlsx', 'drive/Проверено/Проверено_Плотниковой/Набокова_кодТимофеева_проверено Плотниковой/25106701_436015.xlsx', 'drive/Проверено/Проверено_Плотниковой/Набокова_кодТимофеева_проверено Плотниковой/25106701_435600.xlsx', 'drive/Проверено/Проверено_Плотниковой/Набокова_кодТимофеева_проверено Плотниковой/25106701_435736.xlsx', 'drive/Проверено/Проверено_Плотниковой/Набокова_кодТимофеева_проверено Плотниковой/25106701_435748.xlsx', 'drive/Проверено/Проверено_Плотниковой/Набокова_кодТимофеева_проверено Плотниковой/25106701_435295.xlsx', 'drive/Проверено/Проверено_Плотниковой/Набокова_кодТимофеева_проверено Плотниковой/25106701_435879.xlsx', 'drive/Проверено/Проверено_Плотниковой/Набокова_кодТимофеева_проверено Плотниковой/25106701_435965.xlsx', 'drive/Проверено/Проверено_Плотниковой/Набокова_кодТимофеева_проверено Плотниковой/25106701_436141.xlsx', 'drive/Проверено/Проверено_Плотниковой/Набокова_кодТимофеева_проверено Плотниковой/25106701_436624.xlsx', 'drive/Проверено/Проверено_Плотниковой/Набокова_кодТимофеева_проверено Плотниковой/25106701_437177.xlsx', 'drive/Проверено/Проверено_Плотниковой/Набокова_кодТимофеева_проверено Плотниковой/25106701_437195.xlsx', 'drive/Проверено/Проверено_Плотниковой/Набокова_кодТимофеева_проверено Плотниковой/25106701_436183.xlsx', 'drive/Проверено/Проверено_Плотниковой/Набокова_кодТимофеева_проверено Плотниковой/25106701_436405.xlsx', 'drive/Проверено/Проверено_Плотниковой/Набокова_кодТимофеева_проверено Плотниковой/25106701_436843.xlsx', 'drive/Проверено/Проверено_Плотниковой/Набокова_кодТимофеева_проверено Плотниковой/25106701_436539.xlsx', 'drive/Проверено/Проверено_Плотниковой/Набокова_кодТимофеева_проверено Плотниковой/25106701_436335.xlsx', 'drive/Проверено/Проверено_Плотниковой/Набокова_кодТимофеева_проверено Плотниковой/25106701_436161.xlsx', 'drive/Проверено/Проверено_Плотниковой/Набокова_кодТимофеева_проверено Плотниковой/25106701_437261.xlsx', 'drive/Проверено/Проверено_Плотниковой/Набокова_кодТимофеева_проверено Плотниковой/~$25106701_436183.xlsx', 'drive/Проверено/Проверено_Плотниковой/Набокова_кодТимофеева_проверено Плотниковой/25106701_437410.xlsx', 'drive/Проверено/Проверено_Плотниковой/Набокова_кодТимофеева_проверено Плотниковой/25106701_437375.xlsx', 'drive/Проверено/Проверено_Плотниковой/Набокова_кодТимофеева_проверено Плотниковой/25106701_437551.xlsx', 'drive/Проверено/Проверено_Плотниковой/Набокова_кодТимофеева_проверено Плотниковой/25106701_437284.xlsx', 'drive/Проверено/Проверено_Плотниковой/Набокова_кодТимофеева_проверено Плотниковой/25106701_437378.xlsx', 'drive/Проверено/Проверено_Плотниковой/Набокова_кодКудрявцевой_провереноПлотниковой/25106701_437584.xlsx', 'drive/Проверено/Проверено_Плотниковой/Набокова_кодКудрявцевой_провереноПлотниковой/25106701_437888.xlsx', 'drive/Проверено/Проверено_Плотниковой/Набокова_кодКудрявцевой_провереноПлотниковой/25106701_437846.xlsx', 'drive/Проверено/Проверено_Плотниковой/Набокова_кодКудрявцевой_провереноПлотниковой/25106701_437737.xlsx', 'drive/Проверено/Проверено_Плотниковой/Набокова_кодКудрявцевой_провереноПлотниковой/25106701_437622.xlsx', 'drive/Проверено/Проверено_Плотниковой/Набокова_кодКудрявцевой_провереноПлотниковой/25106701_437814.xlsx', 'drive/Проверено/Проверено_Плотниковой/Набокова_кодКудрявцевой_провереноПлотниковой/25106701_437945.xlsx', 'drive/Проверено/Проверено_Плотниковой/Набокова_кодКудрявцевой_провереноПлотниковой/25106701_437912.xlsx', 'drive/Проверено/Проверено_Плотниковой/Набокова_кодКудрявцевой_провереноПлотниковой/25106701_438032.xlsx', 'drive/Проверено/Проверено_Плотниковой/Набокова_кодКудрявцевой_провереноПлотниковой/25106701_438021.xlsx', 'drive/Проверено/Проверено_Плотниковой/Набокова_кодКудрявцевой_провереноПлотниковой/25106701_438086.xlsx', 'drive/Проверено/Проверено_Плотниковой/Набокова_кодКудрявцевой_провереноПлотниковой/25106701_438225.xlsx', 'drive/Проверено/Проверено_Плотниковой/Набокова_кодКудрявцевой_провереноПлотниковой/25106701_438476.xlsx', 'drive/Проверено/Проверено_Плотниковой/Набокова_кодКудрявцевой_провереноПлотниковой/25106701_438187.xlsx', 'drive/Проверено/Проверено_Плотниковой/Набокова_кодКудрявцевой_провереноПлотниковой/25106701_438442.xlsx', 'drive/Проверено/Проверено_Плотниковой/Набокова_кодКудрявцевой_провереноПлотниковой/25106701_438164.xlsx', 'drive/Проверено/Проверено_Плотниковой/Набокова_кодКудрявцевой_провереноПлотниковой/25106701_439258.xlsx', 'drive/Проверено/Проверено_Плотниковой/Набокова_кодКудрявцевой_провереноПлотниковой/25106701_438601.xlsx', 'drive/Проверено/Проверено_Плотниковой/Набокова_кодКудрявцевой_провереноПлотниковой/25106701_438847.xlsx', 'drive/Проверено/Проверено_Плотниковой/Набокова_кодКудрявцевой_провереноПлотниковой/25106701_438790.xlsx', 'drive/Проверено/Проверено_Плотниковой/Набокова_кодКудрявцевой_провереноПлотниковой/25106701_439278.xlsx', 'drive/Проверено/Проверено_Плотниковой/Набокова_кодКудрявцевой_провереноПлотниковой/25106701_439321.xlsx', 'drive/Проверено/Проверено_Плотниковой/Набокова_кодКудрявцевой_провереноПлотниковой/25106701_439370.xlsx', 'drive/Проверено/не_проверено/Плотникова_кодКудрявцевой/25106701_426555.xlsx', 'drive/Проверено/не_проверено/Плотникова_кодКудрявцевой/25106701_426866.xlsx', 'drive/Проверено/не_проверено/Плотникова_кодКудрявцевой/25106701_426881.xlsx', 'drive/Проверено/не_проверено/Плотникова_кодКудрявцевой/25106701_427082.xlsx', 'drive/Проверено/не_проверено/Плотникова_кодКудрявцевой/25106701_427233.xlsx', 'drive/Проверено/не_проверено/Плотникова_кодКудрявцевой/25106701_427837.xlsx', 'drive/Проверено/не_проверено/Плотникова_кодКудрявцевой/25106701_427941.xlsx', 'drive/Проверено/не_проверено/Плотникова_кодКудрявцевой/25106701_441947.xlsx', 'drive/Проверено/не_проверено/Плотникова_кодКудрявцевой/25106701_441985.xlsx', 'drive/Проверено/не_проверено/Плотникова_кодКудрявцевой/25106701_441528.xlsx', 'drive/Проверено/не_проверено/Тимофеева_код_Кудрявцевой/25106701_445046.xlsx', 'drive/Проверено/не_проверено/Тимофеева_код_Кудрявцевой/25106701_445931.xlsx', 'drive/Проверено/не_проверено/Тимофеева_код_Кудрявцевой/25106701_446048.xlsx', 'drive/Проверено/не_проверено/Тимофеева_код_Кудрявцевой/25106701_445814.xlsx', 'drive/Проверено/не_проверено/Тимофеева_код_Кудрявцевой/25106701_448687.xlsx', 'drive/Проверено/не_проверено/Тимофеева_код_Кудрявцевой/25106701_445864.xlsx', 'drive/Проверено/не_проверено/Тимофеева_код_Кудрявцевой/25106701_446289.xlsx', 'drive/Проверено/не_проверено/Тимофеева_код_Кудрявцевой/25106701_446189.xlsx', 'drive/Проверено/не_проверено/Тимофеева_код_Кудрявцевой/25106701_446241.xlsx', 'drive/Проверено/не_проверено/Тимофеева_код_Кудрявцевой/25106701_448671.xlsx', 'drive/Проверено/не_проверено/Тимофеева_код_Кудрявцевой/25106701_445214.xlsx', 'drive/Проверено/не_проверено/Тимофеева_код_Кудрявцевой/25106701_445057.xlsx', 'drive/Проверено/не_проверено/Тимофеева_код_Кудрявцевой/25106701_445299.xlsx', 'drive/Проверено/не_проверено/Тимофеева_код_Кудрявцевой/25106701_445339.xlsx', 'drive/Проверено/не_проверено/Тимофеева_код_Кудрявцевой/25106701_445528.xlsx', 'drive/Проверено/не_проверено/Тимофеева_код_Кудрявцевой/25106701_445621.xlsx', 'drive/Проверено/не_проверено/Тимофеева_код_Кудрявцевой/25106701_445372.xlsx', 'drive/Проверено/не_проверено/Тимофеева_код_Кудрявцевой/25106701_445272.xlsx', 'drive/Проверено/не_проверено/Тимофеева_код_Кудрявцевой/25106701_445138.xlsx', 'drive/Проверено/не_проверено/Тимофеева_код_Кудрявцевой/25106701_445593.xlsx', 'drive/Проверено/Проверено_Кудрявцевой /Набокова_кодПлотниковой/25106701_441003.xlsx', 'drive/Проверено/Проверено_Кудрявцевой /Набокова_кодПлотниковой/25106701_440883.xlsx', 'drive/Проверено/Проверено_Кудрявцевой /Набокова_кодПлотниковой/25106701_440697.xlsx', 'drive/Проверено/Проверено_Кудрявцевой /Набокова_кодПлотниковой/25106701_440664.xlsx', 'drive/Проверено/Проверено_Кудрявцевой /Набокова_кодПлотниковой/25106701_441061.xlsx', 'drive/Проверено/Проверено_Кудрявцевой /Набокова_кодПлотниковой/25106701_440544.xlsx', 'drive/Проверено/Проверено_Кудрявцевой /Набокова_кодПлотниковой/25106701_440687.xlsx', 'drive/Проверено/Проверено_Кудрявцевой /Набокова_кодПлотниковой/25106701_440603.xlsx', 'drive/Проверено/Проверено_Кудрявцевой /Набокова_кодПлотниковой/25106701_440568.xlsx', 'drive/Проверено/Проверено_Кудрявцевой /Набокова_кодПлотниковой/25106701_440515.xlsx', 'drive/Проверено/Проверено_Кудрявцевой /Набокова_кодПлотниковой/25106701_441680.xlsx', 'drive/Проверено/Проверено_Кудрявцевой /Набокова_кодПлотниковой/25106701_441412.xlsx', 'drive/Проверено/Проверено_Кудрявцевой /Набокова_кодПлотниковой/25106701_441157.xlsx', 'drive/Проверено/Проверено_Кудрявцевой /Набокова_кодПлотниковой/25106701_442064.xlsx', 'drive/Проверено/Проверено_Кудрявцевой /Набокова_кодПлотниковой/25106701_439438.xlsx', 'drive/Проверено/Проверено_Кудрявцевой /Набокова_кодПлотниковой/25106701_439555.xlsx', 'drive/Проверено/Проверено_Кудрявцевой /Набокова_кодПлотниковой/25106701_441192.xlsx', 'drive/Проверено/Проверено_Кудрявцевой /Набокова_кодПлотниковой/25106701_439692.xlsx', 'drive/Проверено/Проверено_Кудрявцевой /Набокова_кодПлотниковой/25106701_442090.xlsx', 'drive/Проверено/Проверено_Кудрявцевой /Набокова_кодПлотниковой/25106701_439658.xlsx', 'drive/Проверено/Проверено_Кудрявцевой /Набокова_кодПлотниковой/25106701_439854.xlsx', 'drive/Проверено/Проверено_Кудрявцевой /Набокова_кодПлотниковой/25106701_440132.xlsx', 'drive/Проверено/Проверено_Кудрявцевой /Набокова_кодПлотниковой/25106701_440253.xlsx', 'drive/Проверено/Проверено_Кудрявцевой /Набокова_кодПлотниковой/25106701_440365.xlsx', 'drive/Проверено/Проверено_Кудрявцевой /Плотникова_кодТимофеевой/25106701_433776.xlsx', 'drive/Проверено/Проверено_Кудрявцевой /Плотникова_кодТимофеевой/25106701_434210.xlsx', 'drive/Проверено/Проверено_Кудрявцевой /Плотникова_кодТимофеевой/25106701_434179.xlsx', 'drive/Проверено/Проверено_Кудрявцевой /Плотникова_кодТимофеевой/25106701_434891.xlsx', 'drive/Проверено/Проверено_Кудрявцевой /Плотникова_кодТимофеевой/25106701_438701.xlsx', 'drive/Проверено/Проверено_Кудрявцевой /Плотникова_кодТимофеевой/25106701_441491.xlsx', 'drive/Проверено/Проверено_Кудрявцевой /Плотникова_кодТимофеевой/25106701_433978.xlsx', 'drive/Проверено/Проверено_Кудрявцевой /Плотникова_кодТимофеевой/25106701_433502.xlsx', 'drive/Проверено/Проверено_Кудрявцевой /Плотникова_кодТимофеевой/25106701_433747.xlsx', 'drive/Проверено/Проверено_Кудрявцевой /Плотникова_кодТимофеевой/25106701_434322.xlsx', 'drive/Проверено/Проверено_Кудрявцевой /Плотникова_кодТимофеевой/25106701_434868.xlsx', 'drive/Проверено/Проверено_Кудрявцевой /Плотникова_кодТимофеевой/25106701_441511.xlsx', 'drive/Проверено/Проверено_Кудрявцевой /Плотникова_кодНабоковой/25106701_440132.xlsx', 'drive/Проверено/Проверено_Кудрявцевой /Плотникова_кодНабоковой/25106701_440253.xlsx', 'drive/Проверено/Проверено_Кудрявцевой /Плотникова_кодНабоковой/25106701_440365.xlsx', 'drive/Проверено/Проверено_Кудрявцевой /Плотникова_кодНабоковой/25106701_439658.xlsx', 'drive/Проверено/Проверено_Кудрявцевой /Плотникова_кодНабоковой/25106701_442064.xlsx', 'drive/Проверено/Проверено_Кудрявцевой /Плотникова_кодНабоковой/25106701_439692.xlsx', 'drive/Проверено/Проверено_Кудрявцевой /Плотникова_кодНабоковой/25106701_439555.xlsx', 'drive/Проверено/Проверено_Кудрявцевой /Плотникова_кодНабоковой/25106701_440515.xlsx', 'drive/Проверено/Проверено_Кудрявцевой /Плотникова_кодНабоковой/25106701_442090.xlsx', 'drive/Проверено/Проверено_Кудрявцевой /Плотникова_кодНабоковой/25106701_439854.xlsx', 'drive/Проверено/Проверено_Кудрявцевой /Плотникова_кодНабоковой/25106701_439438.xlsx', 'drive/Проверено/Проверено_Кудрявцевой /Плотникова_кодНабоковой/25106701_441412.xlsx', 'drive/Проверено/Проверено_Кудрявцевой /Плотникова_кодНабоковой/25106701_440687.xlsx', 'drive/Проверено/Проверено_Кудрявцевой /Плотникова_кодНабоковой/25106701_440883.xlsx', 'drive/Проверено/Проверено_Кудрявцевой /Плотникова_кодНабоковой/25106701_441680.xlsx', 'drive/Проверено/Проверено_Кудрявцевой /Плотникова_кодНабоковой/25106701_440664.xlsx', 'drive/Проверено/Проверено_Кудрявцевой /Плотникова_кодНабоковой/25106701_440544.xlsx', 'drive/Проверено/Проверено_Кудрявцевой /Плотникова_кодНабоковой/25106701_441157.xlsx', 'drive/Проверено/Проверено_Кудрявцевой /Плотникова_кодНабоковой/25106701_440603.xlsx', 'drive/Проверено/Проверено_Кудрявцевой /Плотникова_кодНабоковой/25106701_441192.xlsx', 'drive/Проверено/Проверено_Кудрявцевой /Плотникова_кодНабоковой/25106701_440697.xlsx', 'drive/Проверено/Проверено_Кудрявцевой /Плотникова_кодНабоковой/25106701_440568.xlsx', 'drive/Проверено/Проверено_Кудрявцевой /Плотникова_кодНабоковой/25106701_441003.xlsx', 'drive/Проверено/Проверено_Кудрявцевой /Плотникова_кодНабоковой/25106701_441061.xlsx', 'drive/Проверено/Проверено_Плотниковой/Набокова_кодТимофеева_проверено Плотниковой/25106701_435248.xlsx', 'drive/Проверено/Проверено_Плотниковой/Набокова_кодТимофеева_проверено Плотниковой/25106701_435913.xlsx', 'drive/Проверено/Проверено_Плотниковой/Набокова_кодТимофеева_проверено Плотниковой/25106701_435302.xlsx', 'drive/Проверено/Проверено_Плотниковой/Набокова_кодТимофеева_проверено Плотниковой/25106701_436015.xlsx', 'drive/Проверено/Проверено_Плотниковой/Набокова_кодТимофеева_проверено Плотниковой/25106701_435600.xlsx', 'drive/Проверено/Проверено_Плотниковой/Набокова_кодТимофеева_проверено Плотниковой/25106701_435736.xlsx', 'drive/Проверено/Проверено_Плотниковой/Набокова_кодТимофеева_проверено Плотниковой/25106701_435748.xlsx', 'drive/Проверено/Проверено_Плотниковой/Набокова_кодТимофеева_проверено Плотниковой/25106701_435295.xlsx', 'drive/Проверено/Проверено_Плотниковой/Набокова_кодТимофеева_проверено Плотниковой/25106701_435879.xlsx', 'drive/Проверено/Проверено_Плотниковой/Набокова_кодТимофеева_проверено Плотниковой/25106701_435965.xlsx', 'drive/Проверено/Проверено_Плотниковой/Набокова_кодТимофеева_проверено Плотниковой/25106701_436141.xlsx', 'drive/Проверено/Проверено_Плотниковой/Набокова_кодТимофеева_проверено Плотниковой/25106701_436624.xlsx', 'drive/Проверено/Проверено_Плотниковой/Набокова_кодТимофеева_проверено Плотниковой/25106701_437177.xlsx', 'drive/Проверено/Проверено_Плотниковой/Набокова_кодТимофеева_проверено Плотниковой/25106701_437195.xlsx', 'drive/Проверено/Проверено_Плотниковой/Набокова_кодТимофеева_проверено Плотниковой/25106701_436183.xlsx', 'drive/Проверено/Проверено_Плотниковой/Набокова_кодТимофеева_проверено Плотниковой/25106701_436405.xlsx', 'drive/Проверено/Проверено_Плотниковой/Набокова_кодТимофеева_проверено Плотниковой/25106701_436843.xlsx', 'drive/Проверено/Проверено_Плотниковой/Набокова_кодТимофеева_проверено Плотниковой/25106701_436539.xlsx', 'drive/Проверено/Проверено_Плотниковой/Набокова_кодТимофеева_проверено Плотниковой/25106701_436335.xlsx', 'drive/Проверено/Проверено_Плотниковой/Набокова_кодТимофеева_проверено Плотниковой/25106701_436161.xlsx', 'drive/Проверено/Проверено_Плотниковой/Набокова_кодТимофеева_проверено Плотниковой/25106701_437261.xlsx', 'drive/Проверено/Проверено_Плотниковой/Набокова_кодТимофеева_проверено Плотниковой/~$25106701_436183.xlsx', 'drive/Проверено/Проверено_Плотниковой/Набокова_кодТимофеева_проверено Плотниковой/25106701_437410.xlsx', 'drive/Проверено/Проверено_Плотниковой/Набокова_кодТимофеева_проверено Плотниковой/25106701_437375.xlsx', 'drive/Проверено/Проверено_Плотниковой/Набокова_кодТимофеева_проверено Плотниковой/25106701_437551.xlsx', 'drive/Проверено/Проверено_Плотниковой/Набокова_кодТимофеева_проверено Плотниковой/25106701_437284.xlsx', 'drive/Проверено/Проверено_Плотниковой/Набокова_кодТимофеева_проверено Плотниковой/25106701_437378.xlsx', 'drive/Проверено/Проверено_Плотниковой/Набокова_кодКудрявцевой_провереноПлотниковой/25106701_437584.xlsx', 'drive/Проверено/Проверено_Плотниковой/Набокова_кодКудрявцевой_провереноПлотниковой/25106701_437888.xlsx', 'drive/Проверено/Проверено_Плотниковой/Набокова_кодКудрявцевой_провереноПлотниковой/25106701_437846.xlsx', 'drive/Проверено/Проверено_Плотниковой/Набокова_кодКудрявцевой_провереноПлотниковой/25106701_437737.xlsx', 'drive/Проверено/Проверено_Плотниковой/Набокова_кодКудрявцевой_провереноПлотниковой/25106701_437622.xlsx', 'drive/Проверено/Проверено_Плотниковой/Набокова_кодКудрявцевой_провереноПлотниковой/25106701_437814.xlsx', 'drive/Проверено/Проверено_Плотниковой/Набокова_кодКудрявцевой_провереноПлотниковой/25106701_437945.xlsx', 'drive/Проверено/Проверено_Плотниковой/Набокова_кодКудрявцевой_провереноПлотниковой/25106701_437912.xlsx', 'drive/Проверено/Проверено_Плотниковой/Набокова_кодКудрявцевой_провереноПлотниковой/25106701_438032.xlsx', 'drive/Проверено/Проверено_Плотниковой/Набокова_кодКудрявцевой_провереноПлотниковой/25106701_438021.xlsx', 'drive/Проверено/Проверено_Плотниковой/Набокова_кодКудрявцевой_провереноПлотниковой/25106701_438086.xlsx', 'drive/Проверено/Проверено_Плотниковой/Набокова_кодКудрявцевой_провереноПлотниковой/25106701_438225.xlsx', 'drive/Проверено/Проверено_Плотниковой/Набокова_кодКудрявцевой_провереноПлотниковой/25106701_438476.xlsx', 'drive/Проверено/Проверено_Плотниковой/Набокова_кодКудрявцевой_провереноПлотниковой/25106701_438187.xlsx', 'drive/Проверено/Проверено_Плотниковой/Набокова_кодКудрявцевой_провереноПлотниковой/25106701_438442.xlsx', 'drive/Проверено/Проверено_Плотниковой/Набокова_кодКудрявцевой_провереноПлотниковой/25106701_438164.xlsx', 'drive/Проверено/Проверено_Плотниковой/Набокова_кодКудрявцевой_провереноПлотниковой/25106701_439258.xlsx', 'drive/Проверено/Проверено_Плотниковой/Набокова_кодКудрявцевой_провереноПлотниковой/25106701_438601.xlsx', 'drive/Проверено/Проверено_Плотниковой/Набокова_кодКудрявцевой_провереноПлотниковой/25106701_438847.xlsx', 'drive/Проверено/Проверено_Плотниковой/Набокова_кодКудрявцевой_провереноПлотниковой/25106701_438790.xlsx', 'drive/Проверено/Проверено_Плотниковой/Набокова_кодКудрявцевой_провереноПлотниковой/25106701_439278.xlsx', 'drive/Проверено/Проверено_Плотниковой/Набокова_кодКудрявцевой_провереноПлотниковой/25106701_439321.xlsx', 'drive/Проверено/Проверено_Плотниковой/Набокова_кодКудрявцевой_провереноПлотниковой/25106701_439370.xlsx', 'drive/Проверено/не_проверено/Плотникова_кодКудрявцевой/25106701_426555.xlsx', 'drive/Проверено/не_проверено/Плотникова_кодКудрявцевой/25106701_426866.xlsx', 'drive/Проверено/не_проверено/Плотникова_кодКудрявцевой/25106701_426881.xlsx', 'drive/Проверено/не_проверено/Плотникова_кодКудрявцевой/25106701_427082.xlsx', 'drive/Проверено/не_проверено/Плотникова_кодКудрявцевой/25106701_427233.xlsx', 'drive/Проверено/не_проверено/Плотникова_кодКудрявцевой/25106701_427837.xlsx', 'drive/Проверено/не_проверено/Плотникова_кодКудрявцевой/25106701_427941.xlsx', 'drive/Проверено/не_проверено/Плотникова_кодКудрявцевой/25106701_441947.xlsx', 'drive/Проверено/не_проверено/Плотникова_кодКудрявцевой/25106701_441985.xlsx', 'drive/Проверено/не_проверено/Плотникова_кодКудрявцевой/25106701_441528.xlsx', 'drive/Проверено/не_проверено/Тимофеева_код_Кудрявцевой/25106701_445046.xlsx', 'drive/Проверено/не_проверено/Тимофеева_код_Кудрявцевой/25106701_445931.xlsx', 'drive/Проверено/не_проверено/Тимофеева_код_Кудрявцевой/25106701_446048.xlsx', 'drive/Проверено/не_проверено/Тимофеева_код_Кудрявцевой/25106701_445814.xlsx', 'drive/Проверено/не_проверено/Тимофеева_код_Кудрявцевой/25106701_448687.xlsx', 'drive/Проверено/не_проверено/Тимофеева_код_Кудрявцевой/25106701_445864.xlsx', 'drive/Проверено/не_проверено/Тимофеева_код_Кудрявцевой/25106701_446289.xlsx', 'drive/Проверено/не_проверено/Тимофеева_код_Кудрявцевой/25106701_446189.xlsx', 'drive/Проверено/не_проверено/Тимофеева_код_Кудрявцевой/25106701_446241.xlsx', 'drive/Проверено/не_проверено/Тимофеева_код_Кудрявцевой/25106701_448671.xlsx', 'drive/Проверено/не_проверено/Тимофеева_код_Кудрявцевой/25106701_445214.xlsx', 'drive/Проверено/не_проверено/Тимофеева_код_Кудрявцевой/25106701_445057.xlsx', 'drive/Проверено/не_проверено/Тимофеева_код_Кудрявцевой/25106701_445299.xlsx', 'drive/Проверено/не_проверено/Тимофеева_код_Кудрявцевой/25106701_445339.xlsx', 'drive/Проверено/не_проверено/Тимофеева_код_Кудрявцевой/25106701_445528.xlsx', 'drive/Проверено/не_проверено/Тимофеева_код_Кудрявцевой/25106701_445621.xlsx', 'drive/Проверено/не_проверено/Тимофеева_код_Кудрявцевой/25106701_445372.xlsx', 'drive/Проверено/не_проверено/Тимофеева_код_Кудрявцевой/25106701_445272.xlsx', 'drive/Проверено/не_проверено/Тимофеева_код_Кудрявцевой/25106701_445138.xlsx', 'drive/Проверено/не_проверено/Тимофеева_код_Кудрявцевой/25106701_445593.xlsx']\n"
          ],
          "name": "stdout"
        }
      ]
    },
    {
      "metadata": {
        "id": "4U6BsusPw_85",
        "colab_type": "code",
        "colab": {
          "base_uri": "https://localhost:8080/",
          "height": 163
        },
        "outputId": "28120a26-ebaa-40b9-e2b3-436c1841f34a"
      },
      "cell_type": "code",
      "source": [
        "--NotebookApp.iopub_data_rate_limit"
      ],
      "execution_count": 47,
      "outputs": [
        {
          "output_type": "error",
          "ename": "NameError",
          "evalue": "ignored",
          "traceback": [
            "\u001b[0;31m---------------------------------------------------------------------------\u001b[0m",
            "\u001b[0;31mNameError\u001b[0m                                 Traceback (most recent call last)",
            "\u001b[0;32m<ipython-input-47-f9252874d530>\u001b[0m in \u001b[0;36m<module>\u001b[0;34m()\u001b[0m\n\u001b[0;32m----> 1\u001b[0;31m \u001b[0;34m-\u001b[0m\u001b[0;34m-\u001b[0m\u001b[0mNotebookApp\u001b[0m\u001b[0;34m.\u001b[0m\u001b[0miopub_data_rate_limit\u001b[0m\u001b[0;34m\u001b[0m\u001b[0m\n\u001b[0m",
            "\u001b[0;31mNameError\u001b[0m: name 'NotebookApp' is not defined"
          ]
        }
      ]
    },
    {
      "metadata": {
        "id": "B3DLYSVM0rgl",
        "colab_type": "code",
        "colab": {}
      },
      "cell_type": "code",
      "source": [
        ""
      ],
      "execution_count": 0,
      "outputs": []
    }
  ]
}