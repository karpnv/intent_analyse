{
 "cells": [
  {
   "cell_type": "code",
   "execution_count": 13,
   "metadata": {},
   "outputs": [
    {
     "name": "stdout",
     "output_type": "stream",
     "text": [
      "Requirement already satisfied: python-igraph in d:\\anaconda\\lib\\site-packages\n"
     ]
    },
    {
     "name": "stderr",
     "output_type": "stream",
     "text": [
      "You are using pip version 9.0.1, however version 18.0 is available.\n",
      "You should consider upgrading via the 'python -m pip install --upgrade pip' command.\n"
     ]
    },
    {
     "name": "stdout",
     "output_type": "stream",
     "text": [
      "Requirement already satisfied: xlrd in d:\\anaconda\\lib\\site-packages\n"
     ]
    },
    {
     "name": "stderr",
     "output_type": "stream",
     "text": [
      "You are using pip version 9.0.1, however version 18.0 is available.\n",
      "You should consider upgrading via the 'python -m pip install --upgrade pip' command.\n"
     ]
    },
    {
     "name": "stdout",
     "output_type": "stream",
     "text": [
      "Requirement already satisfied: gspan-mining in d:\\anaconda\\lib\\site-packages\n"
     ]
    },
    {
     "name": "stderr",
     "output_type": "stream",
     "text": [
      "You are using pip version 9.0.1, however version 18.0 is available.\n",
      "You should consider upgrading via the 'python -m pip install --upgrade pip' command.\n"
     ]
    },
    {
     "name": "stdout",
     "output_type": "stream",
     "text": [
      "Requirement already satisfied: gspan in d:\\anaconda\\lib\\site-packages\n",
      "Requirement already satisfied: html2text in d:\\anaconda\\lib\\site-packages (from gspan)\n",
      "Requirement already satisfied: copydoc in d:\\anaconda\\lib\\site-packages (from gspan)\n",
      "Requirement already satisfied: cement in d:\\anaconda\\lib\\site-packages (from gspan)\n",
      "Requirement already satisfied: beautifulsoup4==4.4.1 in d:\\anaconda\\lib\\site-packages (from copydoc->gspan)\n"
     ]
    },
    {
     "name": "stderr",
     "output_type": "stream",
     "text": [
      "You are using pip version 9.0.1, however version 18.0 is available.\n",
      "You should consider upgrading via the 'python -m pip install --upgrade pip' command.\n"
     ]
    },
    {
     "name": "stdout",
     "output_type": "stream",
     "text": [
      "Collecting beautifulsoup4\n",
      "  Using cached https://files.pythonhosted.org/packages/21/0a/47fdf541c97fd9b6a610cb5fd518175308a7cc60569962e776ac52420387/beautifulsoup4-4.6.3-py3-none-any.whl\n",
      "Installing collected packages: beautifulsoup4\n",
      "  Found existing installation: beautifulsoup4 4.4.1\n",
      "    Uninstalling beautifulsoup4-4.4.1:\n",
      "      Successfully uninstalled beautifulsoup4-4.4.1\n",
      "Successfully installed beautifulsoup4-4.6.3\n"
     ]
    },
    {
     "name": "stderr",
     "output_type": "stream",
     "text": [
      "You are using pip version 9.0.1, however version 18.0 is available.\n",
      "You should consider upgrading via the 'python -m pip install --upgrade pip' command.\n"
     ]
    },
    {
     "name": "stdout",
     "output_type": "stream",
     "text": [
      "Collecting html5lib\n",
      "  Using cached https://files.pythonhosted.org/packages/a5/62/bbd2be0e7943ec8504b517e62bab011b4946e1258842bc159e5dfde15b96/html5lib-1.0.1-py2.py3-none-any.whl\n",
      "Requirement already up-to-date: webencodings in d:\\anaconda\\lib\\site-packages (from html5lib)\n",
      "Requirement already up-to-date: six>=1.9 in d:\\anaconda\\lib\\site-packages (from html5lib)\n",
      "Installing collected packages: html5lib\n",
      "  Found existing installation: html5lib 1.0b8\n",
      "    Uninstalling html5lib-1.0b8:\n",
      "      Successfully uninstalled html5lib-1.0b8\n",
      "Successfully installed html5lib-1.0.1\n"
     ]
    },
    {
     "name": "stderr",
     "output_type": "stream",
     "text": [
      "You are using pip version 9.0.1, however version 18.0 is available.\n",
      "You should consider upgrading via the 'python -m pip install --upgrade pip' command.\n"
     ]
    },
    {
     "name": "stdout",
     "output_type": "stream",
     "text": [
      "Collecting html5lib==1.0b8\n",
      "Requirement already up-to-date: six in d:\\anaconda\\lib\\site-packages (from html5lib==1.0b8)\n",
      "Installing collected packages: html5lib\n",
      "  Found existing installation: html5lib 1.0.1\n",
      "    Uninstalling html5lib-1.0.1:\n",
      "      Successfully uninstalled html5lib-1.0.1\n",
      "Successfully installed html5lib-1.0b8\n"
     ]
    },
    {
     "name": "stderr",
     "output_type": "stream",
     "text": [
      "You are using pip version 9.0.1, however version 18.0 is available.\n",
      "You should consider upgrading via the 'python -m pip install --upgrade pip' command.\n"
     ]
    }
   ],
   "source": [
    "# Install requirements \n",
    "!pip install python-igraph\n",
    "!pip install xlrd\n",
    "!pip install gspan-mining\n",
    "!pip install gspan\n",
    "!pip install --upgrade beautifulsoup4\n",
    "!pip install --upgrade html5lib\n",
    "!pip install --upgrade html5lib==1.0b8"
   ]
  },
  {
   "cell_type": "code",
   "execution_count": 19,
   "metadata": {},
   "outputs": [],
   "source": [
    "import pandas as pd\n",
    "import math\n",
    "import numpy as np\n",
    "import igraph\n",
    "import os\n",
    "\n",
    "def xlsx_to_gml(filename):\n",
    "    #read xlsx file into dataframe\n",
    "    #print(filename)\n",
    "\n",
    "    post_df = pd.read_excel(filename)\n",
    "    #list to add comment ids that were deleted for some reason\n",
    "\n",
    "    #creating a root node\n",
    "    root = {'id' : filename[len(filename)-11:len(filename)-5]}\n",
    "    root_df = pd.DataFrame(root,index = ['0'])\n",
    "    \n",
    "    \n",
    "    post_df = pd.concat([root_df,post_df],ignore_index=True)\n",
    "    \n",
    "    #fix to add columns if they are not in the xlsx file\n",
    "    if 'attachments' not in post_df.columns:\n",
    "        post_df['attachments'] = ''\n",
    "    if 'reply_to_comment' not in post_df.columns:\n",
    "        post_df['reply_to_comment'] = 0\n",
    "    if 'reply_to_user' not in post_df.columns:\n",
    "        post_df['reply_to_user'] = 0\n",
    "    \n",
    "    met_id = list()\n",
    "\n",
    "    for comment in post_df.iterrows():\n",
    "        if ( (not math.isnan(comment[1]['reply_to_comment'])) and \n",
    "            (comment[1]['reply_to_comment'] not in met_id) and\n",
    "            (comment[1]['reply_to_comment'] not in post_df['id'].tolist()) ):\n",
    "                met_id.append(comment[1]['reply_to_comment'])\n",
    "                \n",
    "    \n",
    "    met_id_df = pd.DataFrame({'id' : met_id})\n",
    "    \n",
    "    #adding empty rows with id field so that every comment id mentioned in xlsx gets its node.\n",
    "    post_df = pd.concat([post_df,met_id_df],ignore_index=True)\n",
    "\n",
    "    \n",
    "\n",
    "    post_Graph = igraph.Graph(directed=True)\n",
    "    post_Graph.add_vertices(len(post_df)) #all comments get a node + root node for the post itself\n",
    "\n",
    "    #filling graph vertices with xlsx content\n",
    "    post_Graph.vs['attachments'] = post_df['attachments'].fillna('').apply(str).tolist()\n",
    "    post_Graph.vs['date'] = post_df['date'].fillna(0).apply(int).apply(lambda x: x if x > 0 else '').apply(str).tolist()\n",
    "    post_Graph.vs['from_id'] = post_df['from_id'].fillna(0).apply(int).apply(lambda x: x if x > 0 else '').apply(str).tolist()\n",
    "    post_Graph.vs['comment_id'] = post_df['id'].fillna(0).apply(int).apply(lambda x: x if x > 0 else '').apply(str).tolist()\n",
    "    post_Graph.vs['reply_to_comment'] = post_df['reply_to_comment'].fillna(0).apply(int).apply(lambda x: x if x > 0 else '').apply(str).tolist()\n",
    "    post_Graph.vs['reply_to_user'] = post_df['reply_to_user'].fillna(0).apply(int).apply(lambda x: x if x > 0 else '').apply(str).tolist()\n",
    "    post_Graph.vs['text'] = post_df['text'].fillna('').apply(str).tolist()\n",
    "    post_Graph.vs['intent'] = post_df['Intent'].fillna('').apply(str).tolist()\n",
    "    post_Graph.vs['content'] = post_df['Content'].replace(' -',float('NaN')).fillna('').apply(str).tolist()\n",
    "    post_Graph.vs['intervention'] = post_df['Intervention'].fillna('').apply(str).tolist()\n",
    "    \n",
    "    \n",
    "    #creating graph edges between comments\n",
    "    for comment in post_df.iterrows():\n",
    "        if ( (math.isnan(comment[1]['reply_to_comment']))):\n",
    "            post_Graph.add_edge(0,comment[0])\n",
    "        else:\n",
    "            for replied_comment in post_df.iterrows():\n",
    "                if (replied_comment[1]['id'] == comment[1]['reply_to_comment']):\n",
    "                    post_Graph.add_edge(replied_comment[0], comment[0])\n",
    "    \n",
    "    \n",
    "    #post_Graph.write_gml( ('C:/Users/Tamir/Desktop/HSE_Project/gml_from_excel/' + filename[47:len(filename)-5] + '.gml').replace(' ','').replace('\\\\','/').replace('//','/'))\n",
    "    #post_Graph.write_gml('drive/gml_from_excel/' + '25106701_437551' +'.gml')\n",
    "    #print('gml is done')\n",
    "    return post_Graph"
   ]
  },
  {
   "cell_type": "code",
   "execution_count": 20,
   "metadata": {},
   "outputs": [],
   "source": [
    "def intervention_subgraph_search(post_Graph):\n",
    "    intervention_subgraphs = list()\n",
    "    #print(post_Graph.subgraph( (3,4,7,8) ))\n",
    "    for v in post_Graph.vs.select(intervention_ne=''):\n",
    "        #print('Intervention node for subgraph: ' + str(v.index))\n",
    "        subgraph_vertices = list()\n",
    "        #print('Its predeccessors: ' + str(v.predecessors()))\n",
    "        if ( v.predecessors()[0]['intent'] != ''):\n",
    "            subgraph_vertices.append(v.predecessors()[0].index)\n",
    "        subgraph_vertices.append(v.index)\n",
    "        neighbors = list()\n",
    "        neighbors.extend(v.successors())\n",
    "        #print('Its successors: ' + str(neighbors))\n",
    "        #print('Constructing subgraph...')\n",
    "        while len(neighbors) > 0:\n",
    "            for neighbor in neighbors:\n",
    "                #print(neighbor.index)\n",
    "                neighbors.extend(neighbor.successors())\n",
    "                subgraph_vertices.append(neighbor.index)\n",
    "                neighbors.remove(neighbor)\n",
    "        #print(subgraph_vertices)\n",
    "        intervention_subgraphs.append(post_Graph.subgraph(subgraph_vertices))\n",
    "    return intervention_subgraphs"
   ]
  },
  {
   "cell_type": "code",
   "execution_count": 21,
   "metadata": {},
   "outputs": [],
   "source": [
    "def generalize_intent(intervention_subgraphs):\n",
    "\n",
    "    \n",
    "    intent_generalization = {\"I\": [\"А\", \"Б\", \"В\", \"Г\", \"Д\"],  # Информативно-воспроизводящий\n",
    "                                   \"E\": [\"Е\", \"Ж\", \"З\", \"И\", \"К\"],  # Эмотивно-консолидирующий\n",
    "                                   \"M\": [\"Л\", \"М\", \"Н\", \"О\", \"П\"],  # Манипулятивный тип, доминирование\n",
    "                                   \"D\": [\"Р\", \"С\", \"Т\", \"У\", \"Ф\"],  # Волюнтивно-директивный\n",
    "                                   \"R\": [\"Х\", \"Ц\", \"Ч\", \"Ш\", \"Щ\"]}  # Контрольно-реактивный\n",
    "    #rint(list(intent_generalization.values()))\n",
    "    for subgraph in intervention_subgraphs:\n",
    "        for v in subgraph.vs:\n",
    "            for general_letter,intent_list in intent_generalization.items():\n",
    "              \n",
    "                if ((v['intent'].split(', ')[0][0]) in intent_list):\n",
    "                    subgraph_intent = general_letter\n",
    "            v['intent'] = subgraph_intent\n",
    "    for subgraph in intervention_subgraphs:\n",
    "        if (subgraph.vcount() > 1):\n",
    "            if(  ((subgraph.vs[0]['intent'] == 'I') and (subgraph.vs[0]['intervention'] != '')) or ((subgraph.vs[1]['intent'] == 'I') and (subgraph.vs[1]['intervention'] != '')) ):\n",
    "                I_subgraphs.append(subgraph)\n",
    "            if(  ((subgraph.vs[0]['intent'] == 'E') and (subgraph.vs[0]['intervention'] != '')) or ((subgraph.vs[1]['intent'] == 'E') and (subgraph.vs[1]['intervention'] != ''))):\n",
    "                E_subgraphs.append(subgraph)\n",
    "            if(  ((subgraph.vs[0]['intent'] == 'M') and (subgraph.vs[0]['intervention'] != '')) or ((subgraph.vs[1]['intent'] == 'M') and (subgraph.vs[1]['intervention'] != ''))):\n",
    "                M_subgraphs.append(subgraph)\n",
    "            if(  ((subgraph.vs[0]['intent'] == 'D') and (subgraph.vs[0]['intervention'] != '')) or ((subgraph.vs[1]['intent'] == 'D') and (subgraph.vs[1]['intervention'] != ''))):\n",
    "                D_subgraphs.append(subgraph)\n",
    "            if(  ((subgraph.vs[0]['intent'] == 'R') and (subgraph.vs[0]['intervention'] != '')) or ((subgraph.vs[1]['intent'] == 'R') and (subgraph.vs[1]['intervention'] != ''))):\n",
    "                R_subgraphs.append(subgraph)\n",
    "        else:\n",
    "            if (subgraph.vs[0]['intent'] == 'I'):\n",
    "                I_subgraphs.append(subgraph)\n",
    "            if (subgraph.vs[0]['intent'] == 'E'):\n",
    "                E_subgraphs.append(subgraph)\n",
    "            if (subgraph.vs[0]['intent'] == 'M'):\n",
    "                M_subgraphs.append(subgraph)\n",
    "            if (subgraph.vs[0]['intent'] == 'D'):\n",
    "                D_subgraphs.append(subgraph)\n",
    "            if (subgraph.vs[0]['intent'] == 'R'):\n",
    "                R_subgraphs.append(subgraph)                \n",
    "    return I_subgraphs,E_subgraphs,M_subgraphs,D_subgraphs,R_subgraphs"
   ]
  },
  {
   "cell_type": "code",
   "execution_count": 22,
   "metadata": {},
   "outputs": [],
   "source": [
    "def make_data_file(graphs,mark):\n",
    "    log = \"\"\n",
    "    counter = 0\n",
    "    for graph in graphs:\n",
    "        log = log + \"t # \" + str(counter) + \"\\n\"\n",
    "        for vertex in graph.vs:\n",
    "            log = log + \"v \" + str(vertex.index) + \" \" + str(vertex['intent']) + \"\\n\"\n",
    "        for edge in graph.es:\n",
    "            log = log + \"e \" + str(edge.source) + \" \" + str(edge.target) + \" \" + \"1\" + \"\\n\"\n",
    "        counter = counter + 1\n",
    "    with open('C:/Users/Tamir/Desktop/HSE_Project/' + mark + '_input_data.data', 'w',encoding=\"utf-8\") as the_file:\n",
    "        the_file.write(log)\n",
    "\n",
    "def gspan_use(graphs,mark):\n",
    "    \n",
    "    make_data_file(graphs,mark)\n",
    "    args_str = '-s 5 -d True -l 2 -p True -w True C:/Users/Tamir/Desktop/HSE_Project/' + mark + '_input_data.data'\n",
    "    FLAGS, _ = parser.parse_known_args(args=args_str.split())\n",
    "    print('ANALYSING ' + mark + ' DATA INPUT FILE')\n",
    "    gs = main(FLAGS)\n",
    "    gs._report_df.to_csv( 'C:/Users/Tamir/Desktop/HSE_Project/' + mark + '_input_data.csv' )"
   ]
  },
  {
   "cell_type": "code",
   "execution_count": 23,
   "metadata": {},
   "outputs": [
    {
     "name": "stdout",
     "output_type": "stream",
     "text": [
      "Populating the interactive namespace from numpy and matplotlib\n",
      "ANALYSING I DATA INPUT FILE\n",
      "t # 0\n",
      "v 0 E\n",
      "v 1 I\n",
      "e 0 1 1\n",
      "\n",
      "Support: 9\n"
     ]
    },
    {
     "data": {
      "image/png": "[encoded data removed]",
      "text/plain": [
       "<matplotlib.figure.Figure at 0x1c8c0fb7128>"
      ]
     },
     "metadata": {},
     "output_type": "display_data"
    },
    {
     "name": "stdout",
     "output_type": "stream",
     "text": [
      "where: [0, 3, 4, 5, 6, 7, 13, 15, 18]\n",
      "\n",
      "-----------------\n",
      "\n",
      "t # 1\n",
      "v 0 I\n",
      "v 1 E\n",
      "e 0 1 1\n",
      "\n",
      "Support: 8\n"
     ]
    },
    {
     "data": {
      "image/png": "[encoded data removed]",
      "text/plain": [
       "<matplotlib.figure.Figure at 0x1c8c0566c50>"
      ]
     },
     "metadata": {},
     "output_type": "display_data"
    },
    {
     "name": "stdout",
     "output_type": "stream",
     "text": [
      "where: [0, 3, 6, 7, 9, 11, 12, 13]\n",
      "\n",
      "-----------------\n",
      "\n",
      "t # 2\n",
      "v 0 R\n",
      "v 1 I\n",
      "e 0 1 1\n",
      "\n",
      "Support: 5\n"
     ]
    },
    {
     "data": {
      "image/png": "[encoded data removed]",
      "text/plain": [
       "<matplotlib.figure.Figure at 0x1c8c2bdff28>"
      ]
     },
     "metadata": {},
     "output_type": "display_data"
    },
    {
     "name": "stdout",
     "output_type": "stream",
     "text": [
      "where: [1, 3, 6, 13, 19]\n",
      "\n",
      "-----------------\n",
      "\n",
      "Read:\t0.0 s\n",
      "Mine:\t0.27 s\n",
      "Total:\t0.27 s\n",
      "ANALYSING E DATA INPUT FILE\n",
      "t # 0\n",
      "v 0 E\n",
      "v 1 E\n",
      "e 0 1 1\n",
      "\n",
      "Support: 21\n"
     ]
    },
    {
     "data": {
      "image/png": "[encoded data removed]",
      "text/plain": [
       "<matplotlib.figure.Figure at 0x1c8bf0ebbe0>"
      ]
     },
     "metadata": {},
     "output_type": "display_data"
    },
    {
     "name": "stdout",
     "output_type": "stream",
     "text": [
      "where: [8, 9, 11, 13, 14, 21, 24, 26, 27, 40, 45, 46, 47, 48, 49, 50, 53, 54, 55, 56, 57]\n",
      "\n",
      "-----------------\n",
      "\n",
      "t # 1\n",
      "v 0 E\n",
      "v 1 E\n",
      "v 2 E\n",
      "e 0 1 1\n",
      "e 1 2 1\n",
      "\n",
      "Support: 8\n"
     ]
    },
    {
     "data": {
      "image/png": "[encoded data removed]",
      "text/plain": [
       "<matplotlib.figure.Figure at 0x1c8c2a91e48>"
      ]
     },
     "metadata": {},
     "output_type": "display_data"
    },
    {
     "name": "stdout",
     "output_type": "stream",
     "text": [
      "where: [40, 45, 46, 47, 48, 54, 55, 56]\n",
      "\n",
      "-----------------\n",
      "\n",
      "t # 2\n",
      "v 0 E\n",
      "v 1 E\n",
      "v 2 E\n",
      "v 3 E\n",
      "e 0 1 1\n",
      "e 1 2 1\n",
      "e 2 3 1\n",
      "\n",
      "Support: 7\n"
     ]
    },
    {
     "data": {
      "image/png": "[encoded data removed]",
      "text/plain": [
       "<matplotlib.figure.Figure at 0x1c8c2bbdf28>"
      ]
     },
     "metadata": {},
     "output_type": "display_data"
    },
    {
     "name": "stdout",
     "output_type": "stream",
     "text": [
      "where: [45, 46, 47, 48, 54, 55, 56]\n",
      "\n",
      "-----------------\n",
      "\n",
      "t # 3\n",
      "v 0 E\n",
      "v 1 E\n",
      "v 2 E\n",
      "v 3 E\n",
      "v 4 E\n",
      "e 0 1 1\n",
      "e 1 2 1\n",
      "e 2 3 1\n",
      "e 3 4 1\n",
      "\n",
      "Support: 5\n"
     ]
    },
    {
     "data": {
      "image/png": "[encoded data removed]",
      "text/plain": [
       "<matplotlib.figure.Figure at 0x1c8c2b8c9e8>"
      ]
     },
     "metadata": {},
     "output_type": "display_data"
    },
    {
     "name": "stdout",
     "output_type": "stream",
     "text": [
      "where: [45, 46, 47, 54, 55]\n",
      "\n",
      "-----------------\n",
      "\n",
      "Read:\t0.0 s\n",
      "Mine:\t0.42 s\n",
      "Total:\t0.42 s\n",
      "ANALYSING M DATA INPUT FILE\n",
      "Read:\t0.0 s\n",
      "Mine:\t0.0 s\n",
      "Total:\t0.0 s\n",
      "ANALYSING D DATA INPUT FILE\n",
      "Read:\t0.0 s\n",
      "Mine:\t0.0 s\n",
      "Total:\t0.0 s\n",
      "ANALYSING R DATA INPUT FILE\n",
      "t # 0\n",
      "v 0 E\n",
      "v 1 R\n",
      "e 0 1 1\n",
      "\n",
      "Support: 18\n"
     ]
    },
    {
     "data": {
      "image/png": "[encoded data removed]",
      "text/plain": [
       "<matplotlib.figure.Figure at 0x1c8c2a22518>"
      ]
     },
     "metadata": {},
     "output_type": "display_data"
    },
    {
     "name": "stdout",
     "output_type": "stream",
     "text": [
      "where: [0, 66, 67, 68, 37, 69, 7, 40, 70, 10, 42, 43, 45, 46, 54, 55, 25, 28]\n",
      "\n",
      "-----------------\n",
      "\n",
      "t # 1\n",
      "v 0 E\n",
      "v 1 R\n",
      "v 2 E\n",
      "e 0 1 1\n",
      "e 1 2 1\n",
      "\n",
      "Support: 7\n"
     ]
    },
    {
     "data": {
      "image/png": "[encoded data removed]",
      "text/plain": [
       "<matplotlib.figure.Figure at 0x1c8c29c1ba8>"
      ]
     },
     "metadata": {},
     "output_type": "display_data"
    },
    {
     "name": "stdout",
     "output_type": "stream",
     "text": [
      "where: [0, 66, 67, 68, 69, 45, 54]\n",
      "\n",
      "-----------------\n",
      "\n",
      "t # 2\n",
      "v 0 R\n",
      "v 1 E\n",
      "e 0 1 1\n",
      "\n",
      "Support: 10\n"
     ]
    },
    {
     "data": {
      "image/png": "[encoded data removed]",
      "text/plain": [
       "<matplotlib.figure.Figure at 0x1c8c2df9518>"
      ]
     },
     "metadata": {},
     "output_type": "display_data"
    },
    {
     "name": "stdout",
     "output_type": "stream",
     "text": [
      "where: [0, 33, 66, 67, 68, 69, 45, 13, 21, 54]\n",
      "\n",
      "-----------------\n",
      "\n",
      "t # 3\n",
      "v 0 R\n",
      "v 1 R\n",
      "e 0 1 1\n",
      "\n",
      "Support: 11\n"
     ]
    },
    {
     "data": {
      "image/png": "[encoded data removed]",
      "text/plain": [
       "<matplotlib.figure.Figure at 0x1c8c2a84080>"
      ]
     },
     "metadata": {},
     "output_type": "display_data"
    },
    {
     "name": "stdout",
     "output_type": "stream",
     "text": [
      "where: [64, 65, 6, 7, 11, 13, 14, 78, 83, 60, 61]\n",
      "\n",
      "-----------------\n",
      "\n",
      "Read:\t0.0 s\n",
      "Mine:\t0.35 s\n",
      "Total:\t0.35 s\n"
     ]
    }
   ],
   "source": [
    "#RUN THIS\n",
    "from gspan_mining.config import parser\n",
    "from gspan_mining.main import main\n",
    "%pylab inline\n",
    "import os\n",
    "filenames = list()\n",
    "intervention_subgraphs = list()\n",
    "for directory, subdirectories, files in os.walk('C:/Users/Tamir/Desktop/HSE_Project/excel_files/'):\n",
    "    for file in files:\n",
    "        filenames.append(os.path.join(directory,file))\n",
    "for filename in filenames:\n",
    "    if (filename[len(filename) - 22] == '~'):\n",
    "        continue\n",
    "    filename = filename.replace(\" \", \" \")\n",
    "    post_Graph = xlsx_to_gml(filename)\n",
    "    intervention_subgraphs.extend(intervention_subgraph_search(post_Graph))\n",
    "\n",
    "I_subgraphs = list()\n",
    "E_subgraphs = list()\n",
    "M_subgraphs = list()\n",
    "D_subgraphs = list()\n",
    "R_subgraphs = list()\n",
    "\n",
    "I_subgraphs, E_subgraphs, M_subgraphs,D_subgraphs,R_subgraphs = generalize_intent(intervention_subgraphs)\n",
    "\n",
    "gspan_use(I_subgraphs,'I')\n",
    "gspan_use(E_subgraphs,'E')\n",
    "gspan_use(M_subgraphs,'M')\n",
    "gspan_use(D_subgraphs,'D')\n",
    "gspan_use(R_subgraphs,'R')\n",
    "\n",
    "\n",
    "\n",
    "\n"
   ]
  },
  {
   "cell_type": "code",
   "execution_count": 4,
   "metadata": {},
   "outputs": [
    {
     "name": "stdout",
     "output_type": "stream",
     "text": [
      "Processing c:\\users\\tamir\\python_igraph-0.7.1.post6-cp36-cp36m-win_amd64.whl\n",
      "Installing collected packages: python-igraph\n",
      "Successfully installed python-igraph-0.7.1.post6\n"
     ]
    },
    {
     "name": "stderr",
     "output_type": "stream",
     "text": [
      "You are using pip version 9.0.1, however version 18.0 is available.\n",
      "You should consider upgrading via the 'python -m pip install --upgrade pip' command.\n"
     ]
    }
   ],
   "source": [
    "#to install python-igraph on windows download .whl file and run this command.\n",
    "#.whl file differs depending on your python version\n",
    "!python -m pip install python_igraph-0.7.1.post6-cp36-cp36m-win_amd64.whl"
   ]
  }
 ],
 "metadata": {
  "kernelspec": {
   "display_name": "Python 3",
   "language": "python",
   "name": "python3"
  },
  "language_info": {
   "codemirror_mode": {
    "name": "ipython",
    "version": 3
   },
   "file_extension": ".py",
   "mimetype": "text/x-python",
   "name": "python",
   "nbconvert_exporter": "python",
   "pygments_lexer": "ipython3",
   "version": "3.6.4"
  }
 },
 "nbformat": 4,
 "nbformat_minor": 2
}
